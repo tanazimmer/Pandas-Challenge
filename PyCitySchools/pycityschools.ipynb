{
 "metadata": {
  "language_info": {
   "codemirror_mode": {
    "name": "ipython",
    "version": 3
   },
   "file_extension": ".py",
   "mimetype": "text/x-python",
   "name": "python",
   "nbconvert_exporter": "python",
   "pygments_lexer": "ipython3",
   "version": "3.6.10-final"
  },
  "orig_nbformat": 2,
  "kernelspec": {
   "name": "python_defaultSpec_1597972645162",
   "display_name": "Python 3.6.10 64-bit"
  }
 },
 "nbformat": 4,
 "nbformat_minor": 2,
 "cells": [
  {
   "cell_type": "code",
   "execution_count": 138,
   "metadata": {},
   "outputs": [
    {
     "output_type": "execute_result",
     "data": {
      "text/plain": "   Student ID       student_name gender grade        school_name  \\\n0           0       Paul Bradley      M   9th  Huang High School   \n1           1       Victor Smith      M  12th  Huang High School   \n2           2    Kevin Rodriguez      M  12th  Huang High School   \n3           3  Dr. Richard Scott      M  12th  Huang High School   \n4           4         Bonnie Ray      F   9th  Huang High School   \n\n   reading_score  math_score  School ID      type  size   budget  \n0             66          79          0  District  2917  1910635  \n1             94          61          0  District  2917  1910635  \n2             90          60          0  District  2917  1910635  \n3             67          58          0  District  2917  1910635  \n4             97          84          0  District  2917  1910635  ",
      "text/html": "<div>\n<style scoped>\n    .dataframe tbody tr th:only-of-type {\n        vertical-align: middle;\n    }\n\n    .dataframe tbody tr th {\n        vertical-align: top;\n    }\n\n    .dataframe thead th {\n        text-align: right;\n    }\n</style>\n<table border=\"1\" class=\"dataframe\">\n  <thead>\n    <tr style=\"text-align: right;\">\n      <th></th>\n      <th>Student ID</th>\n      <th>student_name</th>\n      <th>gender</th>\n      <th>grade</th>\n      <th>school_name</th>\n      <th>reading_score</th>\n      <th>math_score</th>\n      <th>School ID</th>\n      <th>type</th>\n      <th>size</th>\n      <th>budget</th>\n    </tr>\n  </thead>\n  <tbody>\n    <tr>\n      <th>0</th>\n      <td>0</td>\n      <td>Paul Bradley</td>\n      <td>M</td>\n      <td>9th</td>\n      <td>Huang High School</td>\n      <td>66</td>\n      <td>79</td>\n      <td>0</td>\n      <td>District</td>\n      <td>2917</td>\n      <td>1910635</td>\n    </tr>\n    <tr>\n      <th>1</th>\n      <td>1</td>\n      <td>Victor Smith</td>\n      <td>M</td>\n      <td>12th</td>\n      <td>Huang High School</td>\n      <td>94</td>\n      <td>61</td>\n      <td>0</td>\n      <td>District</td>\n      <td>2917</td>\n      <td>1910635</td>\n    </tr>\n    <tr>\n      <th>2</th>\n      <td>2</td>\n      <td>Kevin Rodriguez</td>\n      <td>M</td>\n      <td>12th</td>\n      <td>Huang High School</td>\n      <td>90</td>\n      <td>60</td>\n      <td>0</td>\n      <td>District</td>\n      <td>2917</td>\n      <td>1910635</td>\n    </tr>\n    <tr>\n      <th>3</th>\n      <td>3</td>\n      <td>Dr. Richard Scott</td>\n      <td>M</td>\n      <td>12th</td>\n      <td>Huang High School</td>\n      <td>67</td>\n      <td>58</td>\n      <td>0</td>\n      <td>District</td>\n      <td>2917</td>\n      <td>1910635</td>\n    </tr>\n    <tr>\n      <th>4</th>\n      <td>4</td>\n      <td>Bonnie Ray</td>\n      <td>F</td>\n      <td>9th</td>\n      <td>Huang High School</td>\n      <td>97</td>\n      <td>84</td>\n      <td>0</td>\n      <td>District</td>\n      <td>2917</td>\n      <td>1910635</td>\n    </tr>\n  </tbody>\n</table>\n</div>"
     },
     "metadata": {},
     "execution_count": 138
    }
   ],
   "source": [
    "# Dependencies and Setup\n",
    "import pandas as pd\n",
    "import numpy as np\n",
    "\n",
    "# File to Load (Remember to Change These)\n",
    "school_data_to_load = \"Resources/schools_complete.csv\"\n",
    "student_data_to_load = \"Resources/students_complete.csv\"\n",
    "\n",
    "# Read School and Student Data File and store into Pandas DataFrames\n",
    "school_data = pd.read_csv(school_data_to_load)\n",
    "student_data = pd.read_csv(student_data_to_load)\n",
    "\n",
    "# Combine the data into a single dataset.   \n",
    "total_df = pd.merge(student_data, school_data, how=\"left\", on=[\"school_name\", \"school_name\"])\n",
    "\n",
    "total_df.head()\n"
   ]
  },
  {
   "cell_type": "code",
   "execution_count": 139,
   "metadata": {},
   "outputs": [
    {
     "output_type": "execute_result",
     "data": {
      "text/plain": "   Total # of schools  Total # of students  Total budget  Average math score  \\\n0                  15                39170   82932329558           78.985371   \n\n   Average reading score  Percent of Students Passing Math  \\\n0               81.87784                         74.980853   \n\n   Percent of Students Passing Reading  \\\n0                            85.805463   \n\n   Percent of Students Passing Math and Reading  \n0                                     65.172326  ",
      "text/html": "<div>\n<style scoped>\n    .dataframe tbody tr th:only-of-type {\n        vertical-align: middle;\n    }\n\n    .dataframe tbody tr th {\n        vertical-align: top;\n    }\n\n    .dataframe thead th {\n        text-align: right;\n    }\n</style>\n<table border=\"1\" class=\"dataframe\">\n  <thead>\n    <tr style=\"text-align: right;\">\n      <th></th>\n      <th>Total # of schools</th>\n      <th>Total # of students</th>\n      <th>Total budget</th>\n      <th>Average math score</th>\n      <th>Average reading score</th>\n      <th>Percent of Students Passing Math</th>\n      <th>Percent of Students Passing Reading</th>\n      <th>Percent of Students Passing Math and Reading</th>\n    </tr>\n  </thead>\n  <tbody>\n    <tr>\n      <th>0</th>\n      <td>15</td>\n      <td>39170</td>\n      <td>82932329558</td>\n      <td>78.985371</td>\n      <td>81.87784</td>\n      <td>74.980853</td>\n      <td>85.805463</td>\n      <td>65.172326</td>\n    </tr>\n  </tbody>\n</table>\n</div>"
     },
     "metadata": {},
     "execution_count": 139
    }
   ],
   "source": [
    "#District Summary Dataframwe\n",
    "\n",
    "#Calculate the total number of schools\n",
    "schools = total_df['school_name'].nunique()\n",
    "\n",
    "#Calculate the total number of students\n",
    "students = total_df['student_name'].count()\n",
    "\n",
    "#Calculate the total budget\n",
    "total_budget = total_df['budget'].sum()\n",
    "\n",
    "#Calculate the average math score\n",
    "math_score = total_df['math_score'].mean()\n",
    "\n",
    "#Calculate the average reading score\n",
    "reading_score = total_df['reading_score'].mean()\n",
    "\n",
    "#Calculate the percentage of students with a passing math score (70 or greater)\n",
    "passing_math = total_df.loc[total_df['math_score'] >=70, :]['student_name'].count()\n",
    "percent_passing_math = passing_math / students * 100\n",
    "\n",
    "#Calculate the percentage of students with a passing reading score (70 or greater)\n",
    "passing_reading = total_df.loc[student_data['reading_score'] >=70, :]['student_name'].count()\n",
    "percent_passing_reading = passing_reading / students * 100\n",
    "\n",
    "#Calculate the percentage of students who passed math and reading (% Overall Passing) - while loop???\n",
    "percent_overall = total_df[(total_df['math_score'] >= 70) & (student_data['reading_score'] >= 70)]['student_name'].count()/students * 100\n",
    "\n",
    "\n",
    "#Create a dataframe to hold the above results\n",
    "district_summary_df = pd.DataFrame({\n",
    "    \"Total # of schools\": [schools],\n",
    "    \"Total # of students\": [students],\n",
    "    \"Total budget\": [total_budget],\n",
    "    \"Average math score\": [math_score],\n",
    "    \"Average reading score\": [reading_score],\n",
    "    \"Percent of Students Passing Math\": [percent_passing_math],\n",
    "    \"Percent of Students Passing Reading\": [percent_passing_reading],\n",
    "    \"Percent of Students Passing Math and Reading\": [percent_overall]\n",
    "\n",
    "})\n",
    "\n",
    "district_summary_df\n",
    "#Optional: give the displayed data cleaner formatting\n"
   ]
  },
  {
   "cell_type": "code",
   "execution_count": 140,
   "metadata": {
    "tags": []
   },
   "outputs": [
    {
     "output_type": "execute_result",
     "data": {
      "text/plain": "                         size     budget  math_score  reading_score\nschool_name                                                        \nBailey High School     4976.0  3124928.0   77.048432      81.033963\nCabrera High School    1858.0  1081356.0   83.061895      83.975780\nFigueroa High School   2949.0  1884411.0   76.711767      81.158020\nFord High School       2739.0  1763916.0   77.102592      80.746258\nGriffin High School    1468.0   917500.0   83.351499      83.816757\nHernandez High School  4635.0  3022020.0   77.289752      80.934412\nHolden High School      427.0   248087.0   83.803279      83.814988\nHuang High School      2917.0  1910635.0   76.629414      81.182722\nJohnson High School    4761.0  3094650.0   77.072464      80.966394\nPena High School        962.0   585858.0   83.839917      84.044699\nRodriguez High School  3999.0  2547363.0   76.842711      80.744686\nShelton High School    1761.0  1056600.0   83.359455      83.725724\nThomas High School     1635.0  1043130.0   83.418349      83.848930\nWilson High School     2283.0  1319574.0   83.274201      83.989488\nWright High School     1800.0  1049400.0   83.682222      83.955000",
      "text/html": "<div>\n<style scoped>\n    .dataframe tbody tr th:only-of-type {\n        vertical-align: middle;\n    }\n\n    .dataframe tbody tr th {\n        vertical-align: top;\n    }\n\n    .dataframe thead th {\n        text-align: right;\n    }\n</style>\n<table border=\"1\" class=\"dataframe\">\n  <thead>\n    <tr style=\"text-align: right;\">\n      <th></th>\n      <th>size</th>\n      <th>budget</th>\n      <th>math_score</th>\n      <th>reading_score</th>\n    </tr>\n    <tr>\n      <th>school_name</th>\n      <th></th>\n      <th></th>\n      <th></th>\n      <th></th>\n    </tr>\n  </thead>\n  <tbody>\n    <tr>\n      <th>Bailey High School</th>\n      <td>4976.0</td>\n      <td>3124928.0</td>\n      <td>77.048432</td>\n      <td>81.033963</td>\n    </tr>\n    <tr>\n      <th>Cabrera High School</th>\n      <td>1858.0</td>\n      <td>1081356.0</td>\n      <td>83.061895</td>\n      <td>83.975780</td>\n    </tr>\n    <tr>\n      <th>Figueroa High School</th>\n      <td>2949.0</td>\n      <td>1884411.0</td>\n      <td>76.711767</td>\n      <td>81.158020</td>\n    </tr>\n    <tr>\n      <th>Ford High School</th>\n      <td>2739.0</td>\n      <td>1763916.0</td>\n      <td>77.102592</td>\n      <td>80.746258</td>\n    </tr>\n    <tr>\n      <th>Griffin High School</th>\n      <td>1468.0</td>\n      <td>917500.0</td>\n      <td>83.351499</td>\n      <td>83.816757</td>\n    </tr>\n    <tr>\n      <th>Hernandez High School</th>\n      <td>4635.0</td>\n      <td>3022020.0</td>\n      <td>77.289752</td>\n      <td>80.934412</td>\n    </tr>\n    <tr>\n      <th>Holden High School</th>\n      <td>427.0</td>\n      <td>248087.0</td>\n      <td>83.803279</td>\n      <td>83.814988</td>\n    </tr>\n    <tr>\n      <th>Huang High School</th>\n      <td>2917.0</td>\n      <td>1910635.0</td>\n      <td>76.629414</td>\n      <td>81.182722</td>\n    </tr>\n    <tr>\n      <th>Johnson High School</th>\n      <td>4761.0</td>\n      <td>3094650.0</td>\n      <td>77.072464</td>\n      <td>80.966394</td>\n    </tr>\n    <tr>\n      <th>Pena High School</th>\n      <td>962.0</td>\n      <td>585858.0</td>\n      <td>83.839917</td>\n      <td>84.044699</td>\n    </tr>\n    <tr>\n      <th>Rodriguez High School</th>\n      <td>3999.0</td>\n      <td>2547363.0</td>\n      <td>76.842711</td>\n      <td>80.744686</td>\n    </tr>\n    <tr>\n      <th>Shelton High School</th>\n      <td>1761.0</td>\n      <td>1056600.0</td>\n      <td>83.359455</td>\n      <td>83.725724</td>\n    </tr>\n    <tr>\n      <th>Thomas High School</th>\n      <td>1635.0</td>\n      <td>1043130.0</td>\n      <td>83.418349</td>\n      <td>83.848930</td>\n    </tr>\n    <tr>\n      <th>Wilson High School</th>\n      <td>2283.0</td>\n      <td>1319574.0</td>\n      <td>83.274201</td>\n      <td>83.989488</td>\n    </tr>\n    <tr>\n      <th>Wright High School</th>\n      <td>1800.0</td>\n      <td>1049400.0</td>\n      <td>83.682222</td>\n      <td>83.955000</td>\n    </tr>\n  </tbody>\n</table>\n</div>"
     },
     "metadata": {},
     "execution_count": 140
    }
   ],
   "source": [
    "\n",
    "#Overview summary with...\n",
    "school_summary_start = total_df[['school_name', 'type', 'size', 'budget', 'math_score', 'reading_score']]\n",
    "\n",
    "grouped_df = school_summary_start.groupby(['school_name'])\n",
    "\n",
    "grouped_means = grouped_df.mean()\n",
    "grouped_means"
   ]
  },
  {
   "cell_type": "code",
   "execution_count": 158,
   "metadata": {
    "tags": []
   },
   "outputs": [
    {
     "output_type": "stream",
     "name": "stdout",
     "text": "school_name\nHuang High School        District\nFigueroa High School     District\nShelton High School       Charter\nHernandez High School    District\nGriffin High School       Charter\nWilson High School        Charter\nCabrera High School       Charter\nBailey High School       District\nHolden High School        Charter\nPena High School          Charter\nWright High School        Charter\nRodriguez High School    District\nJohnson High School      District\nFord High School         District\nThomas High School        Charter\nName: type, dtype: object\nBailey High School       4976\nJohnson High School      4761\nHernandez High School    4635\nRodriguez High School    3999\nFigueroa High School     2949\nHuang High School        2917\nFord High School         2739\nWilson High School       2283\nCabrera High School      1858\nWright High School       1800\nShelton High School      1761\nThomas High School       1635\nGriffin High School      1468\nPena High School          962\nHolden High School        427\nName: school_name, dtype: int64\n"
    }
   ],
   "source": [
    "\n",
    "#school name\n",
    "#school_name = school_data['school_name']\n",
    "# School type\n",
    "school_type = school_data.set_index(['school_name'])['type']\n",
    "print(school_type)\n",
    "\n",
    "#Total students\n",
    "#total_students = total_df.groupby(['school_name'])['Student ID'].count()\n",
    "total_students = total_df['school_name'].value_counts()\n",
    "print(total_students)\n"
   ]
  },
  {
   "cell_type": "code",
   "execution_count": 142,
   "metadata": {
    "tags": []
   },
   "outputs": [
    {
     "output_type": "stream",
     "name": "stdout",
     "text": "school_name\nHuang High School        1910635\nFigueroa High School     1884411\nShelton High School      1056600\nHernandez High School    3022020\nGriffin High School       917500\nWilson High School       1319574\nCabrera High School      1081356\nBailey High School       3124928\nHolden High School        248087\nPena High School          585858\nWright High School       1049400\nRodriguez High School    2547363\nJohnson High School      3094650\nFord High School         1763916\nThomas High School       1043130\nName: budget, dtype: int64\nschool_name\nHuang High School        655.0\nFigueroa High School     639.0\nShelton High School      600.0\nHernandez High School    652.0\nGriffin High School      625.0\nWilson High School       578.0\nCabrera High School      582.0\nBailey High School       628.0\nHolden High School       581.0\nPena High School         609.0\nWright High School       583.0\nRodriguez High School    637.0\nJohnson High School      650.0\nFord High School         644.0\nThomas High School       638.0\ndtype: float64\n"
    }
   ],
   "source": [
    "#Total School budget\n",
    "school_budget = school_data.set_index(['school_name'])['budget']\n",
    "print(school_budget)\n",
    "#Per student budget\n",
    "#student_budget = school_data.set_index('school_name')['budget']/school_data.set_index('school_name')['size']\n",
    "\n",
    "per_school_capita = school_budget / total_students\n",
    "\n",
    "print(student_budget)"
   ]
  },
  {
   "cell_type": "code",
   "execution_count": 143,
   "metadata": {},
   "outputs": [],
   "source": [
    "#Average Math Score\n",
    "avg_math = total_df.groupby(['school_name'])['math_score'].mean()\n",
    "\n",
    "#Average Reading Score\n",
    "avg_reading = total_df.groupby(['school_name'])['reading_score'].mean()"
   ]
  },
  {
   "cell_type": "code",
   "execution_count": 144,
   "metadata": {},
   "outputs": [],
   "source": [
    "#% Passing Math\n",
    "percent_passing_m_school = total_df[total_df['math_score'] >= 70].groupby(['school_name'])['Student ID'].count()/total_students*100\n",
    "\n",
    "# % Passing Reading\n",
    "percent_passing_r_school = total_df[total_df['reading_score'] >= 70].groupby(['school_name'])['Student ID'].count()/total_students*100\n",
    "\n",
    "# Percent overall passing\n",
    "passing_overall = total_df[(total_df['reading_score'] >= 70) & (total_df['math_score'] >= 70)].groupby(['school_name'])['Student ID'].count()/total_students*100"
   ]
  },
  {
   "cell_type": "code",
   "execution_count": 163,
   "metadata": {},
   "outputs": [
    {
     "output_type": "execute_result",
     "data": {
      "text/plain": "                      School Type  Total # of students  Total budget  \\\nBailey High School       District                 4976       3124928   \nCabrera High School       Charter                 1858       1081356   \nFigueroa High School     District                 2949       1884411   \nFord High School         District                 2739       1763916   \nGriffin High School       Charter                 1468        917500   \nHernandez High School    District                 4635       3022020   \nHolden High School        Charter                  427        248087   \nHuang High School        District                 2917       1910635   \nJohnson High School      District                 4761       3094650   \nPena High School          Charter                  962        585858   \nRodriguez High School    District                 3999       2547363   \nShelton High School       Charter                 1761       1056600   \nThomas High School        Charter                 1635       1043130   \nWilson High School        Charter                 2283       1319574   \nWright High School        Charter                 1800       1049400   \n\n                       Per Student Budget  Average Math Score  \\\nBailey High School                  628.0           77.048432   \nCabrera High School                 582.0           83.061895   \nFigueroa High School                639.0           76.711767   \nFord High School                    644.0           77.102592   \nGriffin High School                 625.0           83.351499   \nHernandez High School               652.0           77.289752   \nHolden High School                  581.0           83.803279   \nHuang High School                   655.0           76.629414   \nJohnson High School                 650.0           77.072464   \nPena High School                    609.0           83.839917   \nRodriguez High School               637.0           76.842711   \nShelton High School                 600.0           83.359455   \nThomas High School                  638.0           83.418349   \nWilson High School                  578.0           83.274201   \nWright High School                  583.0           83.682222   \n\n                       Average Reading Score  % Passing Math  \\\nBailey High School                 81.033963       66.680064   \nCabrera High School                83.975780       94.133477   \nFigueroa High School               81.158020       65.988471   \nFord High School                   80.746258       68.309602   \nGriffin High School                83.816757       93.392371   \nHernandez High School              80.934412       66.752967   \nHolden High School                 83.814988       92.505855   \nHuang High School                  81.182722       65.683922   \nJohnson High School                80.966394       66.057551   \nPena High School                   84.044699       94.594595   \nRodriguez High School              80.744686       66.366592   \nShelton High School                83.725724       93.867121   \nThomas High School                 83.848930       93.272171   \nWilson High School                 83.989488       93.867718   \nWright High School                 83.955000       93.333333   \n\n                       % Passing Reading  % Passing Overall  \nBailey High School             81.933280          54.642283  \nCabrera High School            97.039828          91.334769  \nFigueroa High School           80.739234          53.204476  \nFord High School               79.299014          54.289887  \nGriffin High School            97.138965          90.599455  \nHernandez High School          80.862999          53.527508  \nHolden High School             96.252927          89.227166  \nHuang High School              81.316421          53.513884  \nJohnson High School            81.222432          53.539172  \nPena High School               95.945946          90.540541  \nRodriguez High School          80.220055          52.988247  \nShelton High School            95.854628          89.892107  \nThomas High School             97.308869          90.948012  \nWilson High School             96.539641          90.582567  \nWright High School             96.611111          90.333333  ",
      "text/html": "<div>\n<style scoped>\n    .dataframe tbody tr th:only-of-type {\n        vertical-align: middle;\n    }\n\n    .dataframe tbody tr th {\n        vertical-align: top;\n    }\n\n    .dataframe thead th {\n        text-align: right;\n    }\n</style>\n<table border=\"1\" class=\"dataframe\">\n  <thead>\n    <tr style=\"text-align: right;\">\n      <th></th>\n      <th>School Type</th>\n      <th>Total # of students</th>\n      <th>Total budget</th>\n      <th>Per Student Budget</th>\n      <th>Average Math Score</th>\n      <th>Average Reading Score</th>\n      <th>% Passing Math</th>\n      <th>% Passing Reading</th>\n      <th>% Passing Overall</th>\n    </tr>\n  </thead>\n  <tbody>\n    <tr>\n      <th>Bailey High School</th>\n      <td>District</td>\n      <td>4976</td>\n      <td>3124928</td>\n      <td>628.0</td>\n      <td>77.048432</td>\n      <td>81.033963</td>\n      <td>66.680064</td>\n      <td>81.933280</td>\n      <td>54.642283</td>\n    </tr>\n    <tr>\n      <th>Cabrera High School</th>\n      <td>Charter</td>\n      <td>1858</td>\n      <td>1081356</td>\n      <td>582.0</td>\n      <td>83.061895</td>\n      <td>83.975780</td>\n      <td>94.133477</td>\n      <td>97.039828</td>\n      <td>91.334769</td>\n    </tr>\n    <tr>\n      <th>Figueroa High School</th>\n      <td>District</td>\n      <td>2949</td>\n      <td>1884411</td>\n      <td>639.0</td>\n      <td>76.711767</td>\n      <td>81.158020</td>\n      <td>65.988471</td>\n      <td>80.739234</td>\n      <td>53.204476</td>\n    </tr>\n    <tr>\n      <th>Ford High School</th>\n      <td>District</td>\n      <td>2739</td>\n      <td>1763916</td>\n      <td>644.0</td>\n      <td>77.102592</td>\n      <td>80.746258</td>\n      <td>68.309602</td>\n      <td>79.299014</td>\n      <td>54.289887</td>\n    </tr>\n    <tr>\n      <th>Griffin High School</th>\n      <td>Charter</td>\n      <td>1468</td>\n      <td>917500</td>\n      <td>625.0</td>\n      <td>83.351499</td>\n      <td>83.816757</td>\n      <td>93.392371</td>\n      <td>97.138965</td>\n      <td>90.599455</td>\n    </tr>\n    <tr>\n      <th>Hernandez High School</th>\n      <td>District</td>\n      <td>4635</td>\n      <td>3022020</td>\n      <td>652.0</td>\n      <td>77.289752</td>\n      <td>80.934412</td>\n      <td>66.752967</td>\n      <td>80.862999</td>\n      <td>53.527508</td>\n    </tr>\n    <tr>\n      <th>Holden High School</th>\n      <td>Charter</td>\n      <td>427</td>\n      <td>248087</td>\n      <td>581.0</td>\n      <td>83.803279</td>\n      <td>83.814988</td>\n      <td>92.505855</td>\n      <td>96.252927</td>\n      <td>89.227166</td>\n    </tr>\n    <tr>\n      <th>Huang High School</th>\n      <td>District</td>\n      <td>2917</td>\n      <td>1910635</td>\n      <td>655.0</td>\n      <td>76.629414</td>\n      <td>81.182722</td>\n      <td>65.683922</td>\n      <td>81.316421</td>\n      <td>53.513884</td>\n    </tr>\n    <tr>\n      <th>Johnson High School</th>\n      <td>District</td>\n      <td>4761</td>\n      <td>3094650</td>\n      <td>650.0</td>\n      <td>77.072464</td>\n      <td>80.966394</td>\n      <td>66.057551</td>\n      <td>81.222432</td>\n      <td>53.539172</td>\n    </tr>\n    <tr>\n      <th>Pena High School</th>\n      <td>Charter</td>\n      <td>962</td>\n      <td>585858</td>\n      <td>609.0</td>\n      <td>83.839917</td>\n      <td>84.044699</td>\n      <td>94.594595</td>\n      <td>95.945946</td>\n      <td>90.540541</td>\n    </tr>\n    <tr>\n      <th>Rodriguez High School</th>\n      <td>District</td>\n      <td>3999</td>\n      <td>2547363</td>\n      <td>637.0</td>\n      <td>76.842711</td>\n      <td>80.744686</td>\n      <td>66.366592</td>\n      <td>80.220055</td>\n      <td>52.988247</td>\n    </tr>\n    <tr>\n      <th>Shelton High School</th>\n      <td>Charter</td>\n      <td>1761</td>\n      <td>1056600</td>\n      <td>600.0</td>\n      <td>83.359455</td>\n      <td>83.725724</td>\n      <td>93.867121</td>\n      <td>95.854628</td>\n      <td>89.892107</td>\n    </tr>\n    <tr>\n      <th>Thomas High School</th>\n      <td>Charter</td>\n      <td>1635</td>\n      <td>1043130</td>\n      <td>638.0</td>\n      <td>83.418349</td>\n      <td>83.848930</td>\n      <td>93.272171</td>\n      <td>97.308869</td>\n      <td>90.948012</td>\n    </tr>\n    <tr>\n      <th>Wilson High School</th>\n      <td>Charter</td>\n      <td>2283</td>\n      <td>1319574</td>\n      <td>578.0</td>\n      <td>83.274201</td>\n      <td>83.989488</td>\n      <td>93.867718</td>\n      <td>96.539641</td>\n      <td>90.582567</td>\n    </tr>\n    <tr>\n      <th>Wright High School</th>\n      <td>Charter</td>\n      <td>1800</td>\n      <td>1049400</td>\n      <td>583.0</td>\n      <td>83.682222</td>\n      <td>83.955000</td>\n      <td>93.333333</td>\n      <td>96.611111</td>\n      <td>90.333333</td>\n    </tr>\n  </tbody>\n</table>\n</div>"
     },
     "metadata": {},
     "execution_count": 163
    }
   ],
   "source": [
    "# Display Dataframe\n",
    "school_summary = pd.DataFrame({\n",
    "    \"School Type\": school_type,\n",
    "    \"Total # of students\": total_students,\n",
    "    \"Total budget\": school_budget,\n",
    "    \"Per Student Budget\": student_budget,\n",
    "    \"Average Math Score\": avg_math,\n",
    "    \"Average Reading Score\": avg_reading,\n",
    "    \"% Passing Math\": percent_passing_m_school,\n",
    "    \"% Passing Reading\":percent_passing_r_school,\n",
    "    \"% Passing Overall\": passing_overall\n",
    "})\n",
    "\n",
    "school_summary\n",
    "\n",
    "\n",
    "\n",
    "#Optional: give the displayed data cleaner formatting\n"
   ]
  },
  {
   "cell_type": "code",
   "execution_count": 146,
   "metadata": {},
   "outputs": [],
   "source": [
    "# Top performing schools\n",
    "# Sort and display the top 5 performing schools by % overall passing"
   ]
  },
  {
   "cell_type": "code",
   "execution_count": 147,
   "metadata": {},
   "outputs": [],
   "source": [
    "# Bottom performing schools\n",
    "# Sort and display the 5 worst performing schools by % overall passing\n"
   ]
  },
  {
   "cell_type": "code",
   "execution_count": 148,
   "metadata": {},
   "outputs": [],
   "source": [
    "# Math scores by grade\n",
    "# Create a table that lists the average reading score for the students of each grade level (9th, 10th, 11th, 12th) at each school\n",
    "# Create a pandas series for each grade. Hint: use a conditional statement.\n",
    "\n",
    "# Group each series by school\n",
    "\n",
    "# Combine the series into a dataframe\n",
    "\n",
    "# Optional: give the displayed data cleaner formatting\n",
    "\n"
   ]
  },
  {
   "cell_type": "code",
   "execution_count": 149,
   "metadata": {},
   "outputs": [],
   "source": [
    "# Reading scores by grade\n",
    "# Create a table that lists the average math score for the students of each grade level (9th, 10th, 11th, 12th) at each school\n",
    "# Create a pandas series for each grade. Hint: use a conditional statement.\n",
    "\n",
    "# Group each series by school\n",
    "\n",
    "# Combine the series into a dataframe\n",
    "\n",
    "# Optional: give the displayed data cleaner formatting"
   ]
  },
  {
   "cell_type": "code",
   "execution_count": 150,
   "metadata": {},
   "outputs": [],
   "source": [
    "# Scores by school spending\n",
    "# Create a table that breaks down school performances based on average Spending Ranges (Per Student). Use 4 reasonable bins to group school spending. Include in the table each of the following:\n",
    "# Average Math Score\n",
    "\n",
    "# Average Reading Score\n",
    "\n",
    "# % Passing Math\n",
    "\n",
    "# % Passing Reading\n",
    "\n",
    "# Overall Passing Rate (Average of the above two)\n"
   ]
  },
  {
   "cell_type": "code",
   "execution_count": 151,
   "metadata": {},
   "outputs": [],
   "source": [
    "# Scores by school size\n",
    "# Create a table that breaks down school performances based on School Size. Use 4 reasonable bins to group school spending. Include in the table each of the following:\n",
    "# Average Math Score\n",
    "\n",
    "# Average Reading Score\n",
    "\n",
    "# % Passing Math\n",
    "\n",
    "# % Passing Reading\n",
    "\n",
    "# Overall Passing Rate (Average of the above two)\n"
   ]
  },
  {
   "cell_type": "code",
   "execution_count": 152,
   "metadata": {},
   "outputs": [],
   "source": [
    "# Scores by school type (charter or district)\n",
    "#Include in the table each of the following:\n",
    "\n",
    "# Average Math Score\n",
    "\n",
    "# Average Reading Score\n",
    "\n",
    "# % Passing Math\n",
    "\n",
    "# % Passing Reading\n",
    "\n",
    "# Overall Passing Rate (Average of the above two)\n"
   ]
  }
 ]
}