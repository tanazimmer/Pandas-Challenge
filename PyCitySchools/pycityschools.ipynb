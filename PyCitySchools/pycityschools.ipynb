{
 "metadata": {
  "language_info": {
   "codemirror_mode": {
    "name": "ipython",
    "version": 3
   },
   "file_extension": ".py",
   "mimetype": "text/x-python",
   "name": "python",
   "nbconvert_exporter": "python",
   "pygments_lexer": "ipython3",
   "version": "3.6.10-final"
  },
  "orig_nbformat": 2,
  "kernelspec": {
   "name": "python_defaultSpec_1598103293677",
   "display_name": "Python 3.6.10 64-bit ('PythonData': conda)"
  }
 },
 "nbformat": 4,
 "nbformat_minor": 2,
 "cells": [
  {
   "cell_type": "code",
   "execution_count": 173,
   "metadata": {},
   "outputs": [
    {
     "output_type": "execute_result",
     "data": {
      "text/plain": "   Student ID       student_name gender grade        school_name  \\\n0           0       Paul Bradley      M   9th  Huang High School   \n1           1       Victor Smith      M  12th  Huang High School   \n2           2    Kevin Rodriguez      M  12th  Huang High School   \n3           3  Dr. Richard Scott      M  12th  Huang High School   \n4           4         Bonnie Ray      F   9th  Huang High School   \n\n   reading_score  math_score  School ID      type  size   budget  \n0             66          79          0  District  2917  1910635  \n1             94          61          0  District  2917  1910635  \n2             90          60          0  District  2917  1910635  \n3             67          58          0  District  2917  1910635  \n4             97          84          0  District  2917  1910635  ",
      "text/html": "<div>\n<style scoped>\n    .dataframe tbody tr th:only-of-type {\n        vertical-align: middle;\n    }\n\n    .dataframe tbody tr th {\n        vertical-align: top;\n    }\n\n    .dataframe thead th {\n        text-align: right;\n    }\n</style>\n<table border=\"1\" class=\"dataframe\">\n  <thead>\n    <tr style=\"text-align: right;\">\n      <th></th>\n      <th>Student ID</th>\n      <th>student_name</th>\n      <th>gender</th>\n      <th>grade</th>\n      <th>school_name</th>\n      <th>reading_score</th>\n      <th>math_score</th>\n      <th>School ID</th>\n      <th>type</th>\n      <th>size</th>\n      <th>budget</th>\n    </tr>\n  </thead>\n  <tbody>\n    <tr>\n      <th>0</th>\n      <td>0</td>\n      <td>Paul Bradley</td>\n      <td>M</td>\n      <td>9th</td>\n      <td>Huang High School</td>\n      <td>66</td>\n      <td>79</td>\n      <td>0</td>\n      <td>District</td>\n      <td>2917</td>\n      <td>1910635</td>\n    </tr>\n    <tr>\n      <th>1</th>\n      <td>1</td>\n      <td>Victor Smith</td>\n      <td>M</td>\n      <td>12th</td>\n      <td>Huang High School</td>\n      <td>94</td>\n      <td>61</td>\n      <td>0</td>\n      <td>District</td>\n      <td>2917</td>\n      <td>1910635</td>\n    </tr>\n    <tr>\n      <th>2</th>\n      <td>2</td>\n      <td>Kevin Rodriguez</td>\n      <td>M</td>\n      <td>12th</td>\n      <td>Huang High School</td>\n      <td>90</td>\n      <td>60</td>\n      <td>0</td>\n      <td>District</td>\n      <td>2917</td>\n      <td>1910635</td>\n    </tr>\n    <tr>\n      <th>3</th>\n      <td>3</td>\n      <td>Dr. Richard Scott</td>\n      <td>M</td>\n      <td>12th</td>\n      <td>Huang High School</td>\n      <td>67</td>\n      <td>58</td>\n      <td>0</td>\n      <td>District</td>\n      <td>2917</td>\n      <td>1910635</td>\n    </tr>\n    <tr>\n      <th>4</th>\n      <td>4</td>\n      <td>Bonnie Ray</td>\n      <td>F</td>\n      <td>9th</td>\n      <td>Huang High School</td>\n      <td>97</td>\n      <td>84</td>\n      <td>0</td>\n      <td>District</td>\n      <td>2917</td>\n      <td>1910635</td>\n    </tr>\n  </tbody>\n</table>\n</div>"
     },
     "metadata": {},
     "execution_count": 173
    }
   ],
   "source": [
    "# Dependencies and Setup\n",
    "import pandas as pd\n",
    "import numpy as np\n",
    "\n",
    "# File to Load (Remember to Change These)\n",
    "school_data_to_load = \"Resources/schools_complete.csv\"\n",
    "student_data_to_load = \"Resources/students_complete.csv\"\n",
    "\n",
    "# Read School and Student Data File and store into Pandas DataFrames\n",
    "school_data = pd.read_csv(school_data_to_load)\n",
    "student_data = pd.read_csv(student_data_to_load)\n",
    "\n",
    "# Combine the data into a single dataset.   \n",
    "total_df = pd.merge(student_data, school_data, how=\"left\", on=[\"school_name\", \"school_name\"])\n",
    "\n",
    "total_df.head()\n"
   ]
  },
  {
   "cell_type": "code",
   "execution_count": 174,
   "metadata": {},
   "outputs": [
    {
     "output_type": "execute_result",
     "data": {
      "text/plain": "   Total # of schools  Total # of students    Total budget Average math score  \\\n0                  15                39170  $24,649,428.00             78.99%   \n\n  Average reading score Percent of Students Passing Math  \\\n0                81.88%                           74.98%   \n\n  Percent of Students Passing Reading  \\\n0                              85.81%   \n\n  Percent of Students Passing Math and Reading  \n0                                       65.17%  ",
      "text/html": "<div>\n<style scoped>\n    .dataframe tbody tr th:only-of-type {\n        vertical-align: middle;\n    }\n\n    .dataframe tbody tr th {\n        vertical-align: top;\n    }\n\n    .dataframe thead th {\n        text-align: right;\n    }\n</style>\n<table border=\"1\" class=\"dataframe\">\n  <thead>\n    <tr style=\"text-align: right;\">\n      <th></th>\n      <th>Total # of schools</th>\n      <th>Total # of students</th>\n      <th>Total budget</th>\n      <th>Average math score</th>\n      <th>Average reading score</th>\n      <th>Percent of Students Passing Math</th>\n      <th>Percent of Students Passing Reading</th>\n      <th>Percent of Students Passing Math and Reading</th>\n    </tr>\n  </thead>\n  <tbody>\n    <tr>\n      <th>0</th>\n      <td>15</td>\n      <td>39170</td>\n      <td>$24,649,428.00</td>\n      <td>78.99%</td>\n      <td>81.88%</td>\n      <td>74.98%</td>\n      <td>85.81%</td>\n      <td>65.17%</td>\n    </tr>\n  </tbody>\n</table>\n</div>"
     },
     "metadata": {},
     "execution_count": 174
    }
   ],
   "source": [
    "#District Summary Dataframwe\n",
    "\n",
    "#Calculate the total number of schools\n",
    "schools = total_df['school_name'].nunique()\n",
    "\n",
    "#Calculate the total number of students\n",
    "students = total_df['student_name'].count()\n",
    "\n",
    "#Calculate the total budget\n",
    "total_budget = school_data['budget'].sum()\n",
    "\n",
    "#Calculate the average math score\n",
    "math_score = total_df['math_score'].mean()\n",
    "\n",
    "#Calculate the average reading score\n",
    "reading_score = total_df['reading_score'].mean()\n",
    "\n",
    "#Calculate the percentage of students with a passing math score (70 or greater)\n",
    "passing_math = total_df.loc[total_df['math_score'] >=70, :]['student_name'].count()\n",
    "percent_passing_math = passing_math / students * 100\n",
    "\n",
    "#Calculate the percentage of students with a passing reading score (70 or greater)\n",
    "passing_reading = total_df.loc[student_data['reading_score'] >=70, :]['student_name'].count()\n",
    "percent_passing_reading = passing_reading / students * 100\n",
    "\n",
    "#Calculate the percentage of students who passed math and reading (% Overall Passing) - while loop???\n",
    "percent_overall = total_df[(total_df['math_score'] >= 70) & (student_data['reading_score'] >= 70)]['student_name'].count()/students * 100\n",
    "\n",
    "\n",
    "#Create a dataframe to hold the above results\n",
    "\n",
    "#Optional: give the displayed data cleaner formatting\n",
    "\n",
    "district_summary_df = pd.DataFrame({\n",
    "    \"Total # of schools\": [schools],\n",
    "    \"Total # of students\": [students],\n",
    "    \"Total budget\": '${:,.2f}'.format(total_budget),\n",
    "    \"Average math score\": '{:,.2f}%'.format(math_score),\n",
    "    \"Average reading score\": '{:,.2f}%'.format(reading_score),\n",
    "    \"Percent of Students Passing Math\": '{:,.2f}%'.format(percent_passing_math),\n",
    "    \"Percent of Students Passing Reading\": '{:,.2f}%'.format(percent_passing_reading),\n",
    "    \"Percent of Students Passing Math and Reading\": '{:,.2f}%'.format(percent_overall)\n",
    "\n",
    "})\n",
    "\n",
    "\n",
    "district_summary_df"
   ]
  },
  {
   "cell_type": "code",
   "execution_count": 175,
   "metadata": {
    "tags": []
   },
   "outputs": [
    {
     "output_type": "stream",
     "name": "stdout",
     "text": "school_name\nHuang High School        District\nFigueroa High School     District\nShelton High School       Charter\nHernandez High School    District\nGriffin High School       Charter\nWilson High School        Charter\nCabrera High School       Charter\nBailey High School       District\nHolden High School        Charter\nPena High School          Charter\nWright High School        Charter\nRodriguez High School    District\nJohnson High School      District\nFord High School         District\nThomas High School        Charter\nName: type, dtype: object\nschool_name\nBailey High School       4976\nCabrera High School      1858\nFigueroa High School     2949\nFord High School         2739\nGriffin High School      1468\nHernandez High School    4635\nHolden High School        427\nHuang High School        2917\nJohnson High School      4761\nPena High School          962\nRodriguez High School    3999\nShelton High School      1761\nThomas High School       1635\nWilson High School       2283\nWright High School       1800\nName: Student ID, dtype: int64\n"
    }
   ],
   "source": [
    "\n",
    "#school name\n",
    "#school_name = school_data['school_name']\n",
    "# School type\n",
    "school_type = school_data.set_index(['school_name'])['type']\n",
    "print(school_type)\n",
    "\n",
    "#Total students\n",
    "#total_students = total_df.groupby(['school_name'])['Student ID'].count()\n",
    "total_students = total_df.groupby('school_name')['Student ID'].count()\n",
    "print(total_students)\n"
   ]
  },
  {
   "cell_type": "code",
   "execution_count": 176,
   "metadata": {
    "tags": []
   },
   "outputs": [
    {
     "output_type": "stream",
     "name": "stdout",
     "text": "school_name\nHuang High School        1910635\nFigueroa High School     1884411\nShelton High School      1056600\nHernandez High School    3022020\nGriffin High School       917500\nWilson High School       1319574\nCabrera High School      1081356\nBailey High School       3124928\nHolden High School        248087\nPena High School          585858\nWright High School       1049400\nRodriguez High School    2547363\nJohnson High School      3094650\nFord High School         1763916\nThomas High School       1043130\nName: budget, dtype: int64\nschool_name\nBailey High School       628.0\nCabrera High School      582.0\nFigueroa High School     639.0\nFord High School         644.0\nGriffin High School      625.0\nHernandez High School    652.0\nHolden High School       581.0\nHuang High School        655.0\nJohnson High School      650.0\nPena High School         609.0\nRodriguez High School    637.0\nShelton High School      600.0\nThomas High School       638.0\nWilson High School       578.0\nWright High School       583.0\ndtype: float64\n"
    }
   ],
   "source": [
    "#Total School budget\n",
    "school_budget = school_data.set_index(['school_name'])['budget']\n",
    "print(school_budget)\n",
    "#Per student budget\n",
    "student_budget = school_budget / total_students\n",
    "\n",
    "print(student_budget)"
   ]
  },
  {
   "cell_type": "code",
   "execution_count": 177,
   "metadata": {},
   "outputs": [],
   "source": [
    "#Average Math Score\n",
    "avg_math = total_df.groupby(['school_name'])['math_score'].mean()\n",
    "\n",
    "#Average Reading Score\n",
    "avg_reading = total_df.groupby(['school_name'])['reading_score'].mean()"
   ]
  },
  {
   "cell_type": "code",
   "execution_count": 178,
   "metadata": {},
   "outputs": [],
   "source": [
    "#% Passing Math\n",
    "percent_passing_m_school = total_df[total_df['math_score'] >= 70].groupby(['school_name'])['Student ID'].count()/total_students*100\n",
    "\n",
    "# % Passing Reading\n",
    "percent_passing_r_school = total_df[total_df['reading_score'] >= 70].groupby(['school_name'])['Student ID'].count()/total_students*100\n",
    "\n",
    "# Percent overall passing\n",
    "passing_overall = total_df[(total_df['reading_score'] >= 70) & (total_df['math_score'] >= 70)].groupby(['school_name'])['Student ID'].count()/total_students*100"
   ]
  },
  {
   "cell_type": "code",
   "execution_count": 179,
   "metadata": {},
   "outputs": [
    {
     "output_type": "execute_result",
     "data": {
      "text/plain": "                      School Type  Total # of students   Total budget  \\\nBailey High School       District                 4976  $3,124,928.00   \nCabrera High School       Charter                 1858  $1,081,356.00   \nFigueroa High School     District                 2949  $1,884,411.00   \nFord High School         District                 2739  $1,763,916.00   \nGriffin High School       Charter                 1468    $917,500.00   \nHernandez High School    District                 4635  $3,022,020.00   \nHolden High School        Charter                  427    $248,087.00   \nHuang High School        District                 2917  $1,910,635.00   \nJohnson High School      District                 4761  $3,094,650.00   \nPena High School          Charter                  962    $585,858.00   \nRodriguez High School    District                 3999  $2,547,363.00   \nShelton High School       Charter                 1761  $1,056,600.00   \nThomas High School        Charter                 1635  $1,043,130.00   \nWilson High School        Charter                 2283  $1,319,574.00   \nWright High School        Charter                 1800  $1,049,400.00   \n\n                      Per Student Budget Average Math Score  \\\nBailey High School               $628.00             77.05%   \nCabrera High School              $582.00             83.06%   \nFigueroa High School             $639.00             76.71%   \nFord High School                 $644.00             77.10%   \nGriffin High School              $625.00             83.35%   \nHernandez High School            $652.00             77.29%   \nHolden High School               $581.00             83.80%   \nHuang High School                $655.00             76.63%   \nJohnson High School              $650.00             77.07%   \nPena High School                 $609.00             83.84%   \nRodriguez High School            $637.00             76.84%   \nShelton High School              $600.00             83.36%   \nThomas High School               $638.00             83.42%   \nWilson High School               $578.00             83.27%   \nWright High School               $583.00             83.68%   \n\n                      Average Reading Score % Passing Math % Passing Reading  \\\nBailey High School                   81.03%         66.68%            81.93%   \nCabrera High School                  83.98%         94.13%            97.04%   \nFigueroa High School                 81.16%         65.99%            80.74%   \nFord High School                     80.75%         68.31%            79.30%   \nGriffin High School                  83.82%         93.39%            97.14%   \nHernandez High School                80.93%         66.75%            80.86%   \nHolden High School                   83.81%         92.51%            96.25%   \nHuang High School                    81.18%         65.68%            81.32%   \nJohnson High School                  80.97%         66.06%            81.22%   \nPena High School                     84.04%         94.59%            95.95%   \nRodriguez High School                80.74%         66.37%            80.22%   \nShelton High School                  83.73%         93.87%            95.85%   \nThomas High School                   83.85%         93.27%            97.31%   \nWilson High School                   83.99%         93.87%            96.54%   \nWright High School                   83.95%         93.33%            96.61%   \n\n                      % Passing Overall  \nBailey High School               54.64%  \nCabrera High School              91.33%  \nFigueroa High School             53.20%  \nFord High School                 54.29%  \nGriffin High School              90.60%  \nHernandez High School            53.53%  \nHolden High School               89.23%  \nHuang High School                53.51%  \nJohnson High School              53.54%  \nPena High School                 90.54%  \nRodriguez High School            52.99%  \nShelton High School              89.89%  \nThomas High School               90.95%  \nWilson High School               90.58%  \nWright High School               90.33%  ",
      "text/html": "<div>\n<style scoped>\n    .dataframe tbody tr th:only-of-type {\n        vertical-align: middle;\n    }\n\n    .dataframe tbody tr th {\n        vertical-align: top;\n    }\n\n    .dataframe thead th {\n        text-align: right;\n    }\n</style>\n<table border=\"1\" class=\"dataframe\">\n  <thead>\n    <tr style=\"text-align: right;\">\n      <th></th>\n      <th>School Type</th>\n      <th>Total # of students</th>\n      <th>Total budget</th>\n      <th>Per Student Budget</th>\n      <th>Average Math Score</th>\n      <th>Average Reading Score</th>\n      <th>% Passing Math</th>\n      <th>% Passing Reading</th>\n      <th>% Passing Overall</th>\n    </tr>\n  </thead>\n  <tbody>\n    <tr>\n      <th>Bailey High School</th>\n      <td>District</td>\n      <td>4976</td>\n      <td>$3,124,928.00</td>\n      <td>$628.00</td>\n      <td>77.05%</td>\n      <td>81.03%</td>\n      <td>66.68%</td>\n      <td>81.93%</td>\n      <td>54.64%</td>\n    </tr>\n    <tr>\n      <th>Cabrera High School</th>\n      <td>Charter</td>\n      <td>1858</td>\n      <td>$1,081,356.00</td>\n      <td>$582.00</td>\n      <td>83.06%</td>\n      <td>83.98%</td>\n      <td>94.13%</td>\n      <td>97.04%</td>\n      <td>91.33%</td>\n    </tr>\n    <tr>\n      <th>Figueroa High School</th>\n      <td>District</td>\n      <td>2949</td>\n      <td>$1,884,411.00</td>\n      <td>$639.00</td>\n      <td>76.71%</td>\n      <td>81.16%</td>\n      <td>65.99%</td>\n      <td>80.74%</td>\n      <td>53.20%</td>\n    </tr>\n    <tr>\n      <th>Ford High School</th>\n      <td>District</td>\n      <td>2739</td>\n      <td>$1,763,916.00</td>\n      <td>$644.00</td>\n      <td>77.10%</td>\n      <td>80.75%</td>\n      <td>68.31%</td>\n      <td>79.30%</td>\n      <td>54.29%</td>\n    </tr>\n    <tr>\n      <th>Griffin High School</th>\n      <td>Charter</td>\n      <td>1468</td>\n      <td>$917,500.00</td>\n      <td>$625.00</td>\n      <td>83.35%</td>\n      <td>83.82%</td>\n      <td>93.39%</td>\n      <td>97.14%</td>\n      <td>90.60%</td>\n    </tr>\n    <tr>\n      <th>Hernandez High School</th>\n      <td>District</td>\n      <td>4635</td>\n      <td>$3,022,020.00</td>\n      <td>$652.00</td>\n      <td>77.29%</td>\n      <td>80.93%</td>\n      <td>66.75%</td>\n      <td>80.86%</td>\n      <td>53.53%</td>\n    </tr>\n    <tr>\n      <th>Holden High School</th>\n      <td>Charter</td>\n      <td>427</td>\n      <td>$248,087.00</td>\n      <td>$581.00</td>\n      <td>83.80%</td>\n      <td>83.81%</td>\n      <td>92.51%</td>\n      <td>96.25%</td>\n      <td>89.23%</td>\n    </tr>\n    <tr>\n      <th>Huang High School</th>\n      <td>District</td>\n      <td>2917</td>\n      <td>$1,910,635.00</td>\n      <td>$655.00</td>\n      <td>76.63%</td>\n      <td>81.18%</td>\n      <td>65.68%</td>\n      <td>81.32%</td>\n      <td>53.51%</td>\n    </tr>\n    <tr>\n      <th>Johnson High School</th>\n      <td>District</td>\n      <td>4761</td>\n      <td>$3,094,650.00</td>\n      <td>$650.00</td>\n      <td>77.07%</td>\n      <td>80.97%</td>\n      <td>66.06%</td>\n      <td>81.22%</td>\n      <td>53.54%</td>\n    </tr>\n    <tr>\n      <th>Pena High School</th>\n      <td>Charter</td>\n      <td>962</td>\n      <td>$585,858.00</td>\n      <td>$609.00</td>\n      <td>83.84%</td>\n      <td>84.04%</td>\n      <td>94.59%</td>\n      <td>95.95%</td>\n      <td>90.54%</td>\n    </tr>\n    <tr>\n      <th>Rodriguez High School</th>\n      <td>District</td>\n      <td>3999</td>\n      <td>$2,547,363.00</td>\n      <td>$637.00</td>\n      <td>76.84%</td>\n      <td>80.74%</td>\n      <td>66.37%</td>\n      <td>80.22%</td>\n      <td>52.99%</td>\n    </tr>\n    <tr>\n      <th>Shelton High School</th>\n      <td>Charter</td>\n      <td>1761</td>\n      <td>$1,056,600.00</td>\n      <td>$600.00</td>\n      <td>83.36%</td>\n      <td>83.73%</td>\n      <td>93.87%</td>\n      <td>95.85%</td>\n      <td>89.89%</td>\n    </tr>\n    <tr>\n      <th>Thomas High School</th>\n      <td>Charter</td>\n      <td>1635</td>\n      <td>$1,043,130.00</td>\n      <td>$638.00</td>\n      <td>83.42%</td>\n      <td>83.85%</td>\n      <td>93.27%</td>\n      <td>97.31%</td>\n      <td>90.95%</td>\n    </tr>\n    <tr>\n      <th>Wilson High School</th>\n      <td>Charter</td>\n      <td>2283</td>\n      <td>$1,319,574.00</td>\n      <td>$578.00</td>\n      <td>83.27%</td>\n      <td>83.99%</td>\n      <td>93.87%</td>\n      <td>96.54%</td>\n      <td>90.58%</td>\n    </tr>\n    <tr>\n      <th>Wright High School</th>\n      <td>Charter</td>\n      <td>1800</td>\n      <td>$1,049,400.00</td>\n      <td>$583.00</td>\n      <td>83.68%</td>\n      <td>83.95%</td>\n      <td>93.33%</td>\n      <td>96.61%</td>\n      <td>90.33%</td>\n    </tr>\n  </tbody>\n</table>\n</div>"
     },
     "metadata": {},
     "execution_count": 179
    }
   ],
   "source": [
    "# Display Dataframe\n",
    "school_summary = pd.DataFrame({\n",
    "    \"School Type\": school_type,\n",
    "    \"Total # of students\": total_students,\n",
    "    \"Total budget\": school_budget,\n",
    "    \"Per Student Budget\": student_budget,\n",
    "    \"Average Math Score\": avg_math,\n",
    "    \"Average Reading Score\": avg_reading,\n",
    "    \"% Passing Math\": percent_passing_m_school,\n",
    "    \"% Passing Reading\":percent_passing_r_school,\n",
    "    \"% Passing Overall\": passing_overall\n",
    "})\n",
    "\n",
    "\n",
    "school_summary_format = school_summary.copy()\n",
    "\n",
    "#Optional: give the displayed data cleaner formatting\n",
    "school_summary_format[\"Total budget\"] = school_summary[\"Total budget\"].map(\"${:,.2f}\".format)\n",
    "school_summary_format[\"Per Student Budget\"] = school_summary[\"Per Student Budget\"].map(\"${:,.2f}\".format)\n",
    "school_summary_format[\"Average Math Score\"] = school_summary[\"Average Math Score\"].map(\"{:,.2f}%\".format)\n",
    "school_summary_format[\"Average Reading Score\"] = school_summary[\"Average Reading Score\"].map(\"{:,.2f}%\".format)\n",
    "school_summary_format[\"% Passing Math\"] = school_summary[\"% Passing Math\"].map(\"{:,.2f}%\".format)\n",
    "school_summary_format[\"% Passing Reading\"] = school_summary[\"% Passing Reading\"].map(\"{:,.2f}%\".format)\n",
    "school_summary_format[\"% Passing Overall\"] = school_summary[\"% Passing Overall\"].map(\"{:,.2f}%\".format)\n",
    "school_summary_format[[\"School Type\",\n",
    "    \"Total # of students\",\n",
    "    \"Total budget\",\n",
    "    \"Per Student Budget\",\n",
    "    \"Average Math Score\",\n",
    "    \"Average Reading Score\",\n",
    "    \"% Passing Math\",\n",
    "    \"% Passing Reading\",\n",
    "    \"% Passing Overall\"]]\n",
    "school_summary_format"
   ]
  },
  {
   "cell_type": "code",
   "execution_count": 180,
   "metadata": {},
   "outputs": [
    {
     "output_type": "execute_result",
     "data": {
      "text/plain": "                    School Type  Total # of students  Total budget  \\\nCabrera High School     Charter                 1858       1081356   \nThomas High School      Charter                 1635       1043130   \nGriffin High School     Charter                 1468        917500   \nWilson High School      Charter                 2283       1319574   \nPena High School        Charter                  962        585858   \n\n                     Per Student Budget  Average Math Score  \\\nCabrera High School               582.0           83.061895   \nThomas High School                638.0           83.418349   \nGriffin High School               625.0           83.351499   \nWilson High School                578.0           83.274201   \nPena High School                  609.0           83.839917   \n\n                     Average Reading Score  % Passing Math  % Passing Reading  \\\nCabrera High School              83.975780       94.133477          97.039828   \nThomas High School               83.848930       93.272171          97.308869   \nGriffin High School              83.816757       93.392371          97.138965   \nWilson High School               83.989488       93.867718          96.539641   \nPena High School                 84.044699       94.594595          95.945946   \n\n                     % Passing Overall  \nCabrera High School          91.334769  \nThomas High School           90.948012  \nGriffin High School          90.599455  \nWilson High School           90.582567  \nPena High School             90.540541  ",
      "text/html": "<div>\n<style scoped>\n    .dataframe tbody tr th:only-of-type {\n        vertical-align: middle;\n    }\n\n    .dataframe tbody tr th {\n        vertical-align: top;\n    }\n\n    .dataframe thead th {\n        text-align: right;\n    }\n</style>\n<table border=\"1\" class=\"dataframe\">\n  <thead>\n    <tr style=\"text-align: right;\">\n      <th></th>\n      <th>School Type</th>\n      <th>Total # of students</th>\n      <th>Total budget</th>\n      <th>Per Student Budget</th>\n      <th>Average Math Score</th>\n      <th>Average Reading Score</th>\n      <th>% Passing Math</th>\n      <th>% Passing Reading</th>\n      <th>% Passing Overall</th>\n    </tr>\n  </thead>\n  <tbody>\n    <tr>\n      <th>Cabrera High School</th>\n      <td>Charter</td>\n      <td>1858</td>\n      <td>1081356</td>\n      <td>582.0</td>\n      <td>83.061895</td>\n      <td>83.975780</td>\n      <td>94.133477</td>\n      <td>97.039828</td>\n      <td>91.334769</td>\n    </tr>\n    <tr>\n      <th>Thomas High School</th>\n      <td>Charter</td>\n      <td>1635</td>\n      <td>1043130</td>\n      <td>638.0</td>\n      <td>83.418349</td>\n      <td>83.848930</td>\n      <td>93.272171</td>\n      <td>97.308869</td>\n      <td>90.948012</td>\n    </tr>\n    <tr>\n      <th>Griffin High School</th>\n      <td>Charter</td>\n      <td>1468</td>\n      <td>917500</td>\n      <td>625.0</td>\n      <td>83.351499</td>\n      <td>83.816757</td>\n      <td>93.392371</td>\n      <td>97.138965</td>\n      <td>90.599455</td>\n    </tr>\n    <tr>\n      <th>Wilson High School</th>\n      <td>Charter</td>\n      <td>2283</td>\n      <td>1319574</td>\n      <td>578.0</td>\n      <td>83.274201</td>\n      <td>83.989488</td>\n      <td>93.867718</td>\n      <td>96.539641</td>\n      <td>90.582567</td>\n    </tr>\n    <tr>\n      <th>Pena High School</th>\n      <td>Charter</td>\n      <td>962</td>\n      <td>585858</td>\n      <td>609.0</td>\n      <td>83.839917</td>\n      <td>84.044699</td>\n      <td>94.594595</td>\n      <td>95.945946</td>\n      <td>90.540541</td>\n    </tr>\n  </tbody>\n</table>\n</div>"
     },
     "metadata": {},
     "execution_count": 180
    }
   ],
   "source": [
    "# Top performing schools\n",
    "# Sort and display the top 5 performing schools by % overall passing\n",
    "topfive = school_summary.sort_values(['% Passing Overall'], ascending=False)\n",
    "topfive.head()"
   ]
  },
  {
   "cell_type": "code",
   "execution_count": 181,
   "metadata": {},
   "outputs": [
    {
     "output_type": "execute_result",
     "data": {
      "text/plain": "                      School Type  Total # of students  Total budget  \\\nRodriguez High School    District                 3999       2547363   \nFigueroa High School     District                 2949       1884411   \nHuang High School        District                 2917       1910635   \nHernandez High School    District                 4635       3022020   \nJohnson High School      District                 4761       3094650   \n\n                       Per Student Budget  Average Math Score  \\\nRodriguez High School               637.0           76.842711   \nFigueroa High School                639.0           76.711767   \nHuang High School                   655.0           76.629414   \nHernandez High School               652.0           77.289752   \nJohnson High School                 650.0           77.072464   \n\n                       Average Reading Score  % Passing Math  \\\nRodriguez High School              80.744686       66.366592   \nFigueroa High School               81.158020       65.988471   \nHuang High School                  81.182722       65.683922   \nHernandez High School              80.934412       66.752967   \nJohnson High School                80.966394       66.057551   \n\n                       % Passing Reading  % Passing Overall  \nRodriguez High School          80.220055          52.988247  \nFigueroa High School           80.739234          53.204476  \nHuang High School              81.316421          53.513884  \nHernandez High School          80.862999          53.527508  \nJohnson High School            81.222432          53.539172  ",
      "text/html": "<div>\n<style scoped>\n    .dataframe tbody tr th:only-of-type {\n        vertical-align: middle;\n    }\n\n    .dataframe tbody tr th {\n        vertical-align: top;\n    }\n\n    .dataframe thead th {\n        text-align: right;\n    }\n</style>\n<table border=\"1\" class=\"dataframe\">\n  <thead>\n    <tr style=\"text-align: right;\">\n      <th></th>\n      <th>School Type</th>\n      <th>Total # of students</th>\n      <th>Total budget</th>\n      <th>Per Student Budget</th>\n      <th>Average Math Score</th>\n      <th>Average Reading Score</th>\n      <th>% Passing Math</th>\n      <th>% Passing Reading</th>\n      <th>% Passing Overall</th>\n    </tr>\n  </thead>\n  <tbody>\n    <tr>\n      <th>Rodriguez High School</th>\n      <td>District</td>\n      <td>3999</td>\n      <td>2547363</td>\n      <td>637.0</td>\n      <td>76.842711</td>\n      <td>80.744686</td>\n      <td>66.366592</td>\n      <td>80.220055</td>\n      <td>52.988247</td>\n    </tr>\n    <tr>\n      <th>Figueroa High School</th>\n      <td>District</td>\n      <td>2949</td>\n      <td>1884411</td>\n      <td>639.0</td>\n      <td>76.711767</td>\n      <td>81.158020</td>\n      <td>65.988471</td>\n      <td>80.739234</td>\n      <td>53.204476</td>\n    </tr>\n    <tr>\n      <th>Huang High School</th>\n      <td>District</td>\n      <td>2917</td>\n      <td>1910635</td>\n      <td>655.0</td>\n      <td>76.629414</td>\n      <td>81.182722</td>\n      <td>65.683922</td>\n      <td>81.316421</td>\n      <td>53.513884</td>\n    </tr>\n    <tr>\n      <th>Hernandez High School</th>\n      <td>District</td>\n      <td>4635</td>\n      <td>3022020</td>\n      <td>652.0</td>\n      <td>77.289752</td>\n      <td>80.934412</td>\n      <td>66.752967</td>\n      <td>80.862999</td>\n      <td>53.527508</td>\n    </tr>\n    <tr>\n      <th>Johnson High School</th>\n      <td>District</td>\n      <td>4761</td>\n      <td>3094650</td>\n      <td>650.0</td>\n      <td>77.072464</td>\n      <td>80.966394</td>\n      <td>66.057551</td>\n      <td>81.222432</td>\n      <td>53.539172</td>\n    </tr>\n  </tbody>\n</table>\n</div>"
     },
     "metadata": {},
     "execution_count": 181
    }
   ],
   "source": [
    "# Bottom performing schools\n",
    "# Sort and display the 5 worst performing schools by % overall passing\n",
    "bottomfive = school_summary.sort_values(['% Passing Overall'], ascending=True)\n",
    "bottomfive.head()"
   ]
  },
  {
   "cell_type": "code",
   "execution_count": 182,
   "metadata": {
    "tags": []
   },
   "outputs": [
    {
     "output_type": "stream",
     "name": "stdout",
     "text": "school_name\nBailey High School       77.083676\nCabrera High School      83.094697\nFigueroa High School     76.403037\nFord High School         77.361345\nGriffin High School      82.044010\nHernandez High School    77.438495\nHolden High School       83.787402\nHuang High School        77.027251\nJohnson High School      77.187857\nPena High School         83.625455\nRodriguez High School    76.859966\nShelton High School      83.420755\nThomas High School       83.590022\nWilson High School       83.085578\nWright High School       83.264706\nName: math_score, dtype: float64\n"
    }
   ],
   "source": [
    "# Math scores by grade\n",
    "# Create a table that lists the average reading score for the students of each grade level (9th, 10th, 11th, 12th) at each school\n",
    "# Create a pandas series for each grade. Hint: use a conditional statement.\n",
    "# Group each series by school\n",
    "grade_9_m = total_df[total_df['grade'] == \"9th\"].groupby(\"school_name\")['math_score'].mean()\n",
    "print(grade_9_m)\n",
    "\n",
    "\n"
   ]
  },
  {
   "cell_type": "code",
   "execution_count": 183,
   "metadata": {},
   "outputs": [
    {
     "output_type": "execute_result",
     "data": {
      "text/plain": "                      Grade 9 Avg Math Scores Grade 10 Avg Math Scores  \\\nschool_name                                                              \nBailey High School                     77.08%                   77.00%   \nCabrera High School                    83.09%                   83.15%   \nFigueroa High School                   76.40%                   76.54%   \nFord High School                       77.36%                   77.67%   \nGriffin High School                    82.04%                   84.23%   \nHernandez High School                  77.44%                   77.34%   \nHolden High School                     83.79%                   83.43%   \nHuang High School                      77.03%                   75.91%   \nJohnson High School                    77.19%                   76.69%   \nPena High School                       83.63%                   83.37%   \nRodriguez High School                  76.86%                   76.61%   \nShelton High School                    83.42%                   82.92%   \nThomas High School                     83.59%                   83.09%   \nWilson High School                     83.09%                   83.72%   \nWright High School                     83.26%                   84.01%   \n\n                      Grade 11 Avg Math Scores Grade 12 Avg Math Scores  \nschool_name                                                              \nBailey High School                      77.52%                   76.49%  \nCabrera High School                     82.77%                   83.28%  \nFigueroa High School                    76.88%                   77.15%  \nFord High School                        76.92%                   76.18%  \nGriffin High School                     83.84%                   83.36%  \nHernandez High School                   77.14%                   77.19%  \nHolden High School                      85.00%                   82.86%  \nHuang High School                       76.45%                   77.23%  \nJohnson High School                     77.49%                   76.86%  \nPena High School                        84.33%                   84.12%  \nRodriguez High School                   76.40%                   77.69%  \nShelton High School                     83.38%                   83.78%  \nThomas High School                      83.50%                   83.50%  \nWilson High School                      83.20%                   83.04%  \nWright High School                      83.84%                   83.64%  ",
      "text/html": "<div>\n<style scoped>\n    .dataframe tbody tr th:only-of-type {\n        vertical-align: middle;\n    }\n\n    .dataframe tbody tr th {\n        vertical-align: top;\n    }\n\n    .dataframe thead th {\n        text-align: right;\n    }\n</style>\n<table border=\"1\" class=\"dataframe\">\n  <thead>\n    <tr style=\"text-align: right;\">\n      <th></th>\n      <th>Grade 9 Avg Math Scores</th>\n      <th>Grade 10 Avg Math Scores</th>\n      <th>Grade 11 Avg Math Scores</th>\n      <th>Grade 12 Avg Math Scores</th>\n    </tr>\n    <tr>\n      <th>school_name</th>\n      <th></th>\n      <th></th>\n      <th></th>\n      <th></th>\n    </tr>\n  </thead>\n  <tbody>\n    <tr>\n      <th>Bailey High School</th>\n      <td>77.08%</td>\n      <td>77.00%</td>\n      <td>77.52%</td>\n      <td>76.49%</td>\n    </tr>\n    <tr>\n      <th>Cabrera High School</th>\n      <td>83.09%</td>\n      <td>83.15%</td>\n      <td>82.77%</td>\n      <td>83.28%</td>\n    </tr>\n    <tr>\n      <th>Figueroa High School</th>\n      <td>76.40%</td>\n      <td>76.54%</td>\n      <td>76.88%</td>\n      <td>77.15%</td>\n    </tr>\n    <tr>\n      <th>Ford High School</th>\n      <td>77.36%</td>\n      <td>77.67%</td>\n      <td>76.92%</td>\n      <td>76.18%</td>\n    </tr>\n    <tr>\n      <th>Griffin High School</th>\n      <td>82.04%</td>\n      <td>84.23%</td>\n      <td>83.84%</td>\n      <td>83.36%</td>\n    </tr>\n    <tr>\n      <th>Hernandez High School</th>\n      <td>77.44%</td>\n      <td>77.34%</td>\n      <td>77.14%</td>\n      <td>77.19%</td>\n    </tr>\n    <tr>\n      <th>Holden High School</th>\n      <td>83.79%</td>\n      <td>83.43%</td>\n      <td>85.00%</td>\n      <td>82.86%</td>\n    </tr>\n    <tr>\n      <th>Huang High School</th>\n      <td>77.03%</td>\n      <td>75.91%</td>\n      <td>76.45%</td>\n      <td>77.23%</td>\n    </tr>\n    <tr>\n      <th>Johnson High School</th>\n      <td>77.19%</td>\n      <td>76.69%</td>\n      <td>77.49%</td>\n      <td>76.86%</td>\n    </tr>\n    <tr>\n      <th>Pena High School</th>\n      <td>83.63%</td>\n      <td>83.37%</td>\n      <td>84.33%</td>\n      <td>84.12%</td>\n    </tr>\n    <tr>\n      <th>Rodriguez High School</th>\n      <td>76.86%</td>\n      <td>76.61%</td>\n      <td>76.40%</td>\n      <td>77.69%</td>\n    </tr>\n    <tr>\n      <th>Shelton High School</th>\n      <td>83.42%</td>\n      <td>82.92%</td>\n      <td>83.38%</td>\n      <td>83.78%</td>\n    </tr>\n    <tr>\n      <th>Thomas High School</th>\n      <td>83.59%</td>\n      <td>83.09%</td>\n      <td>83.50%</td>\n      <td>83.50%</td>\n    </tr>\n    <tr>\n      <th>Wilson High School</th>\n      <td>83.09%</td>\n      <td>83.72%</td>\n      <td>83.20%</td>\n      <td>83.04%</td>\n    </tr>\n    <tr>\n      <th>Wright High School</th>\n      <td>83.26%</td>\n      <td>84.01%</td>\n      <td>83.84%</td>\n      <td>83.64%</td>\n    </tr>\n  </tbody>\n</table>\n</div>"
     },
     "metadata": {},
     "execution_count": 183
    }
   ],
   "source": [
    "grade_10_m = total_df[total_df['grade'] == \"10th\"].groupby(\"school_name\")['math_score'].mean()\n",
    "grade_11_m = total_df[total_df['grade'] == \"11th\"].groupby(\"school_name\")['math_score'].mean()\n",
    "grade_12_m = total_df[total_df['grade'] == \"12th\"].groupby(\"school_name\")['math_score'].mean()\n",
    "\n",
    "\n",
    "# Combine the series into a dataframe\n",
    "math_bygrade = pd.DataFrame({\"Grade 9 Avg Math Scores\": grade_9_m,\n",
    "    \"Grade 10 Avg Math Scores\": grade_10_m,\n",
    "    \"Grade 11 Avg Math Scores\": grade_11_m,\n",
    "    \"Grade 12 Avg Math Scores\": grade_12_m})\n",
    "\n",
    "# Optional: give the displayed data cleaner formatting\n",
    "\n",
    "math_bygrade[\"Grade 9 Avg Math Scores\"] = math_bygrade[\"Grade 9 Avg Math Scores\"].map(\"{:,.2f}%\".format)\n",
    "math_bygrade[\"Grade 10 Avg Math Scores\"] = math_bygrade[\"Grade 10 Avg Math Scores\"].map(\"{:,.2f}%\".format)\n",
    "math_bygrade[\"Grade 11 Avg Math Scores\"] = math_bygrade[\"Grade 11 Avg Math Scores\"].map(\"{:,.2f}%\".format)\n",
    "math_bygrade[\"Grade 12 Avg Math Scores\"] = math_bygrade[\"Grade 12 Avg Math Scores\"].map(\"{:,.2f}%\".format)\n",
    "\n",
    "math_bygrade[[\"Grade 9 Avg Math Scores\",\n",
    "    \"Grade 10 Avg Math Scores\",\n",
    "    \"Grade 11 Avg Math Scores\",\n",
    "    \"Grade 12 Avg Math Scores\"]]\n",
    "\n",
    "math_bygrade\n",
    "\n",
    "\n",
    "\n"
   ]
  },
  {
   "cell_type": "code",
   "execution_count": 184,
   "metadata": {},
   "outputs": [
    {
     "output_type": "execute_result",
     "data": {
      "text/plain": "                      Grade 9 Avg Reading Scores Grade 10 Avg Reading Scores  \\\nschool_name                                                                    \nBailey High School                        80.91%                      80.91%   \nCabrera High School                       84.25%                      84.25%   \nFigueroa High School                      81.41%                      81.41%   \nFord High School                          81.26%                      81.26%   \nGriffin High School                       83.71%                      83.71%   \nHernandez High School                     80.66%                      80.66%   \nHolden High School                        83.32%                      83.32%   \nHuang High School                         81.51%                      81.51%   \nJohnson High School                       80.77%                      80.77%   \nPena High School                          83.61%                      83.61%   \nRodriguez High School                     80.63%                      80.63%   \nShelton High School                       83.44%                      83.44%   \nThomas High School                        84.25%                      84.25%   \nWilson High School                        84.02%                      84.02%   \nWright High School                        83.81%                      83.81%   \n\n                      Grade 11 Avg Reading Scores Grade 12 Avg Reading Scores  \nschool_name                                                                    \nBailey High School                         80.95%                      80.91%  \nCabrera High School                        83.79%                      84.29%  \nFigueroa High School                       80.64%                      81.38%  \nFord High School                           80.40%                      80.66%  \nGriffin High School                        84.29%                      84.01%  \nHernandez High School                      81.40%                      80.86%  \nHolden High School                         83.82%                      84.70%  \nHuang High School                          81.42%                      80.31%  \nJohnson High School                        80.62%                      81.23%  \nPena High School                           84.34%                      84.59%  \nRodriguez High School                      80.86%                      80.38%  \nShelton High School                        84.37%                      82.78%  \nThomas High School                         83.59%                      83.83%  \nWilson High School                         83.76%                      84.32%  \nWright High School                         84.16%                      84.07%  ",
      "text/html": "<div>\n<style scoped>\n    .dataframe tbody tr th:only-of-type {\n        vertical-align: middle;\n    }\n\n    .dataframe tbody tr th {\n        vertical-align: top;\n    }\n\n    .dataframe thead th {\n        text-align: right;\n    }\n</style>\n<table border=\"1\" class=\"dataframe\">\n  <thead>\n    <tr style=\"text-align: right;\">\n      <th></th>\n      <th>Grade 9 Avg Reading Scores</th>\n      <th>Grade 10 Avg Reading Scores</th>\n      <th>Grade 11 Avg Reading Scores</th>\n      <th>Grade 12 Avg Reading Scores</th>\n    </tr>\n    <tr>\n      <th>school_name</th>\n      <th></th>\n      <th></th>\n      <th></th>\n      <th></th>\n    </tr>\n  </thead>\n  <tbody>\n    <tr>\n      <th>Bailey High School</th>\n      <td>80.91%</td>\n      <td>80.91%</td>\n      <td>80.95%</td>\n      <td>80.91%</td>\n    </tr>\n    <tr>\n      <th>Cabrera High School</th>\n      <td>84.25%</td>\n      <td>84.25%</td>\n      <td>83.79%</td>\n      <td>84.29%</td>\n    </tr>\n    <tr>\n      <th>Figueroa High School</th>\n      <td>81.41%</td>\n      <td>81.41%</td>\n      <td>80.64%</td>\n      <td>81.38%</td>\n    </tr>\n    <tr>\n      <th>Ford High School</th>\n      <td>81.26%</td>\n      <td>81.26%</td>\n      <td>80.40%</td>\n      <td>80.66%</td>\n    </tr>\n    <tr>\n      <th>Griffin High School</th>\n      <td>83.71%</td>\n      <td>83.71%</td>\n      <td>84.29%</td>\n      <td>84.01%</td>\n    </tr>\n    <tr>\n      <th>Hernandez High School</th>\n      <td>80.66%</td>\n      <td>80.66%</td>\n      <td>81.40%</td>\n      <td>80.86%</td>\n    </tr>\n    <tr>\n      <th>Holden High School</th>\n      <td>83.32%</td>\n      <td>83.32%</td>\n      <td>83.82%</td>\n      <td>84.70%</td>\n    </tr>\n    <tr>\n      <th>Huang High School</th>\n      <td>81.51%</td>\n      <td>81.51%</td>\n      <td>81.42%</td>\n      <td>80.31%</td>\n    </tr>\n    <tr>\n      <th>Johnson High School</th>\n      <td>80.77%</td>\n      <td>80.77%</td>\n      <td>80.62%</td>\n      <td>81.23%</td>\n    </tr>\n    <tr>\n      <th>Pena High School</th>\n      <td>83.61%</td>\n      <td>83.61%</td>\n      <td>84.34%</td>\n      <td>84.59%</td>\n    </tr>\n    <tr>\n      <th>Rodriguez High School</th>\n      <td>80.63%</td>\n      <td>80.63%</td>\n      <td>80.86%</td>\n      <td>80.38%</td>\n    </tr>\n    <tr>\n      <th>Shelton High School</th>\n      <td>83.44%</td>\n      <td>83.44%</td>\n      <td>84.37%</td>\n      <td>82.78%</td>\n    </tr>\n    <tr>\n      <th>Thomas High School</th>\n      <td>84.25%</td>\n      <td>84.25%</td>\n      <td>83.59%</td>\n      <td>83.83%</td>\n    </tr>\n    <tr>\n      <th>Wilson High School</th>\n      <td>84.02%</td>\n      <td>84.02%</td>\n      <td>83.76%</td>\n      <td>84.32%</td>\n    </tr>\n    <tr>\n      <th>Wright High School</th>\n      <td>83.81%</td>\n      <td>83.81%</td>\n      <td>84.16%</td>\n      <td>84.07%</td>\n    </tr>\n  </tbody>\n</table>\n</div>"
     },
     "metadata": {},
     "execution_count": 184
    }
   ],
   "source": [
    "# Reading scores by grade\n",
    "# Create a table that lists the average math score for the students of each grade level (9th, 10th, 11th, 12th) at each school\n",
    "# Create a pandas series for each grade. Hint: use a conditional statement.\n",
    "\n",
    "# Group each series by school\n",
    "grade_9_r = total_df[total_df['grade'] == \"10th\"].groupby(\"school_name\")['reading_score'].mean()\n",
    "grade_10_r = total_df[total_df['grade'] == \"10th\"].groupby(\"school_name\")['reading_score'].mean()\n",
    "grade_11_r = total_df[total_df['grade'] == \"11th\"].groupby(\"school_name\")['reading_score'].mean()\n",
    "grade_12_r = total_df[total_df['grade'] == \"12th\"].groupby(\"school_name\")['reading_score'].mean()\n",
    "# Combine the series into a dataframe\n",
    "reading_bygrade = pd.DataFrame({\"Grade 9 Avg Reading Scores\": grade_9_r,\n",
    "    \"Grade 10 Avg Reading Scores\": grade_10_r,\n",
    "    \"Grade 11 Avg Reading Scores\": grade_11_r,\n",
    "    \"Grade 12 Avg Reading Scores\": grade_12_r})\n",
    "\n",
    "# Optional: give the displayed data cleaner formatting\n",
    "\n",
    "reading_bygrade[\"Grade 9 Avg Reading Scores\"] = reading_bygrade[\"Grade 9 Avg Reading Scores\"].map(\"{:,.2f}%\".format)\n",
    "reading_bygrade[\"Grade 10 Avg Reading Scores\"] = reading_bygrade[\"Grade 10 Avg Reading Scores\"].map(\"{:,.2f}%\".format)\n",
    "reading_bygrade[\"Grade 11 Avg Reading Scores\"] = reading_bygrade[\"Grade 11 Avg Reading Scores\"].map(\"{:,.2f}%\".format)\n",
    "reading_bygrade[\"Grade 12 Avg Reading Scores\"] = reading_bygrade[\"Grade 12 Avg Reading Scores\"].map(\"{:,.2f}%\".format)\n",
    "\n",
    "reading_bygrade[[\"Grade 9 Avg Reading Scores\",\n",
    "    \"Grade 10 Avg Reading Scores\",\n",
    "    \"Grade 11 Avg Reading Scores\",\n",
    "    \"Grade 12 Avg Reading Scores\"]]\n",
    "reading_bygrade\n"
   ]
  },
  {
   "cell_type": "code",
   "execution_count": 185,
   "metadata": {
    "tags": []
   },
   "outputs": [
    {
     "output_type": "stream",
     "name": "stdout",
     "text": "578.0\n655.0\n"
    }
   ],
   "source": [
    "print(min(student_budget))\n",
    "print(max(student_budget))\n"
   ]
  },
  {
   "cell_type": "code",
   "execution_count": 186,
   "metadata": {},
   "outputs": [
    {
     "output_type": "execute_result",
     "data": {
      "text/plain": "                      School Type  Total # of students  Total budget  \\\nBailey High School       District                 4976       3124928   \nCabrera High School       Charter                 1858       1081356   \nFigueroa High School     District                 2949       1884411   \nFord High School         District                 2739       1763916   \nGriffin High School       Charter                 1468        917500   \nHernandez High School    District                 4635       3022020   \nHolden High School        Charter                  427        248087   \nHuang High School        District                 2917       1910635   \nJohnson High School      District                 4761       3094650   \nPena High School          Charter                  962        585858   \nRodriguez High School    District                 3999       2547363   \nShelton High School       Charter                 1761       1056600   \nThomas High School        Charter                 1635       1043130   \nWilson High School        Charter                 2283       1319574   \nWright High School        Charter                 1800       1049400   \n\n                       Per Student Budget  Average Math Score  \\\nBailey High School                  628.0           77.048432   \nCabrera High School                 582.0           83.061895   \nFigueroa High School                639.0           76.711767   \nFord High School                    644.0           77.102592   \nGriffin High School                 625.0           83.351499   \nHernandez High School               652.0           77.289752   \nHolden High School                  581.0           83.803279   \nHuang High School                   655.0           76.629414   \nJohnson High School                 650.0           77.072464   \nPena High School                    609.0           83.839917   \nRodriguez High School               637.0           76.842711   \nShelton High School                 600.0           83.359455   \nThomas High School                  638.0           83.418349   \nWilson High School                  578.0           83.274201   \nWright High School                  583.0           83.682222   \n\n                       Average Reading Score  % Passing Math  \\\nBailey High School                 81.033963       66.680064   \nCabrera High School                83.975780       94.133477   \nFigueroa High School               81.158020       65.988471   \nFord High School                   80.746258       68.309602   \nGriffin High School                83.816757       93.392371   \nHernandez High School              80.934412       66.752967   \nHolden High School                 83.814988       92.505855   \nHuang High School                  81.182722       65.683922   \nJohnson High School                80.966394       66.057551   \nPena High School                   84.044699       94.594595   \nRodriguez High School              80.744686       66.366592   \nShelton High School                83.725724       93.867121   \nThomas High School                 83.848930       93.272171   \nWilson High School                 83.989488       93.867718   \nWright High School                 83.955000       93.333333   \n\n                       % Passing Reading  % Passing Overall  \\\nBailey High School             81.933280          54.642283   \nCabrera High School            97.039828          91.334769   \nFigueroa High School           80.739234          53.204476   \nFord High School               79.299014          54.289887   \nGriffin High School            97.138965          90.599455   \nHernandez High School          80.862999          53.527508   \nHolden High School             96.252927          89.227166   \nHuang High School              81.316421          53.513884   \nJohnson High School            81.222432          53.539172   \nPena High School               95.945946          90.540541   \nRodriguez High School          80.220055          52.988247   \nShelton High School            95.854628          89.892107   \nThomas High School             97.308869          90.948012   \nWilson High School             96.539641          90.582567   \nWright High School             96.611111          90.333333   \n\n                      Spending Per Student  \nBailey High School        $620-655/student  \nCabrera High School         < $590/student  \nFigueroa High School      $620-655/student  \nFord High School          $620-655/student  \nGriffin High School       $620-655/student  \nHernandez High School     $620-655/student  \nHolden High School          < $590/student  \nHuang High School         $620-655/student  \nJohnson High School       $620-655/student  \nPena High School          $590-620/student  \nRodriguez High School     $620-655/student  \nShelton High School       $590-620/student  \nThomas High School        $620-655/student  \nWilson High School          < $590/student  \nWright High School          < $590/student  ",
      "text/html": "<div>\n<style scoped>\n    .dataframe tbody tr th:only-of-type {\n        vertical-align: middle;\n    }\n\n    .dataframe tbody tr th {\n        vertical-align: top;\n    }\n\n    .dataframe thead th {\n        text-align: right;\n    }\n</style>\n<table border=\"1\" class=\"dataframe\">\n  <thead>\n    <tr style=\"text-align: right;\">\n      <th></th>\n      <th>School Type</th>\n      <th>Total # of students</th>\n      <th>Total budget</th>\n      <th>Per Student Budget</th>\n      <th>Average Math Score</th>\n      <th>Average Reading Score</th>\n      <th>% Passing Math</th>\n      <th>% Passing Reading</th>\n      <th>% Passing Overall</th>\n      <th>Spending Per Student</th>\n    </tr>\n  </thead>\n  <tbody>\n    <tr>\n      <th>Bailey High School</th>\n      <td>District</td>\n      <td>4976</td>\n      <td>3124928</td>\n      <td>628.0</td>\n      <td>77.048432</td>\n      <td>81.033963</td>\n      <td>66.680064</td>\n      <td>81.933280</td>\n      <td>54.642283</td>\n      <td>$620-655/student</td>\n    </tr>\n    <tr>\n      <th>Cabrera High School</th>\n      <td>Charter</td>\n      <td>1858</td>\n      <td>1081356</td>\n      <td>582.0</td>\n      <td>83.061895</td>\n      <td>83.975780</td>\n      <td>94.133477</td>\n      <td>97.039828</td>\n      <td>91.334769</td>\n      <td>&lt; $590/student</td>\n    </tr>\n    <tr>\n      <th>Figueroa High School</th>\n      <td>District</td>\n      <td>2949</td>\n      <td>1884411</td>\n      <td>639.0</td>\n      <td>76.711767</td>\n      <td>81.158020</td>\n      <td>65.988471</td>\n      <td>80.739234</td>\n      <td>53.204476</td>\n      <td>$620-655/student</td>\n    </tr>\n    <tr>\n      <th>Ford High School</th>\n      <td>District</td>\n      <td>2739</td>\n      <td>1763916</td>\n      <td>644.0</td>\n      <td>77.102592</td>\n      <td>80.746258</td>\n      <td>68.309602</td>\n      <td>79.299014</td>\n      <td>54.289887</td>\n      <td>$620-655/student</td>\n    </tr>\n    <tr>\n      <th>Griffin High School</th>\n      <td>Charter</td>\n      <td>1468</td>\n      <td>917500</td>\n      <td>625.0</td>\n      <td>83.351499</td>\n      <td>83.816757</td>\n      <td>93.392371</td>\n      <td>97.138965</td>\n      <td>90.599455</td>\n      <td>$620-655/student</td>\n    </tr>\n    <tr>\n      <th>Hernandez High School</th>\n      <td>District</td>\n      <td>4635</td>\n      <td>3022020</td>\n      <td>652.0</td>\n      <td>77.289752</td>\n      <td>80.934412</td>\n      <td>66.752967</td>\n      <td>80.862999</td>\n      <td>53.527508</td>\n      <td>$620-655/student</td>\n    </tr>\n    <tr>\n      <th>Holden High School</th>\n      <td>Charter</td>\n      <td>427</td>\n      <td>248087</td>\n      <td>581.0</td>\n      <td>83.803279</td>\n      <td>83.814988</td>\n      <td>92.505855</td>\n      <td>96.252927</td>\n      <td>89.227166</td>\n      <td>&lt; $590/student</td>\n    </tr>\n    <tr>\n      <th>Huang High School</th>\n      <td>District</td>\n      <td>2917</td>\n      <td>1910635</td>\n      <td>655.0</td>\n      <td>76.629414</td>\n      <td>81.182722</td>\n      <td>65.683922</td>\n      <td>81.316421</td>\n      <td>53.513884</td>\n      <td>$620-655/student</td>\n    </tr>\n    <tr>\n      <th>Johnson High School</th>\n      <td>District</td>\n      <td>4761</td>\n      <td>3094650</td>\n      <td>650.0</td>\n      <td>77.072464</td>\n      <td>80.966394</td>\n      <td>66.057551</td>\n      <td>81.222432</td>\n      <td>53.539172</td>\n      <td>$620-655/student</td>\n    </tr>\n    <tr>\n      <th>Pena High School</th>\n      <td>Charter</td>\n      <td>962</td>\n      <td>585858</td>\n      <td>609.0</td>\n      <td>83.839917</td>\n      <td>84.044699</td>\n      <td>94.594595</td>\n      <td>95.945946</td>\n      <td>90.540541</td>\n      <td>$590-620/student</td>\n    </tr>\n    <tr>\n      <th>Rodriguez High School</th>\n      <td>District</td>\n      <td>3999</td>\n      <td>2547363</td>\n      <td>637.0</td>\n      <td>76.842711</td>\n      <td>80.744686</td>\n      <td>66.366592</td>\n      <td>80.220055</td>\n      <td>52.988247</td>\n      <td>$620-655/student</td>\n    </tr>\n    <tr>\n      <th>Shelton High School</th>\n      <td>Charter</td>\n      <td>1761</td>\n      <td>1056600</td>\n      <td>600.0</td>\n      <td>83.359455</td>\n      <td>83.725724</td>\n      <td>93.867121</td>\n      <td>95.854628</td>\n      <td>89.892107</td>\n      <td>$590-620/student</td>\n    </tr>\n    <tr>\n      <th>Thomas High School</th>\n      <td>Charter</td>\n      <td>1635</td>\n      <td>1043130</td>\n      <td>638.0</td>\n      <td>83.418349</td>\n      <td>83.848930</td>\n      <td>93.272171</td>\n      <td>97.308869</td>\n      <td>90.948012</td>\n      <td>$620-655/student</td>\n    </tr>\n    <tr>\n      <th>Wilson High School</th>\n      <td>Charter</td>\n      <td>2283</td>\n      <td>1319574</td>\n      <td>578.0</td>\n      <td>83.274201</td>\n      <td>83.989488</td>\n      <td>93.867718</td>\n      <td>96.539641</td>\n      <td>90.582567</td>\n      <td>&lt; $590/student</td>\n    </tr>\n    <tr>\n      <th>Wright High School</th>\n      <td>Charter</td>\n      <td>1800</td>\n      <td>1049400</td>\n      <td>583.0</td>\n      <td>83.682222</td>\n      <td>83.955000</td>\n      <td>93.333333</td>\n      <td>96.611111</td>\n      <td>90.333333</td>\n      <td>&lt; $590/student</td>\n    </tr>\n  </tbody>\n</table>\n</div>"
     },
     "metadata": {},
     "execution_count": 186
    }
   ],
   "source": [
    "# Scores by school spending\n",
    "# Create a table that breaks down school performances based on average Spending Ranges (Per Student). Use 4 reasonable bins to group school spending. Include in the table each of the following:\n",
    "\n",
    "spending_bins = [0, 590, 620, 660]\n",
    "spending_group = [\"< $590/student\", \"$590-620/student\", \"$620-655/student\"]\n",
    "\n",
    "\n",
    "school_summary['Spending Per Student'] = pd.cut(school_summary['Per Student Budget'], spending_bins, labels=spending_group)\n",
    "school_summary"
   ]
  },
  {
   "cell_type": "code",
   "execution_count": 187,
   "metadata": {
    "tags": []
   },
   "outputs": [
    {
     "output_type": "stream",
     "name": "stdout",
     "text": "Spending Per Student\n< $590/student      4\n$590-620/student    2\n$620-655/student    9\nName: Total # of students, dtype: int64\n"
    },
    {
     "output_type": "execute_result",
     "data": {
      "text/plain": "                      Average Math Score  Average Reading Score  \\\nSpending Per Student                                              \n< $590/student                 83.455399              83.933814   \n$590-620/student               83.599686              83.885211   \n$620-655/student               78.385220              81.603571   \n\n                      % Passing Math  % Passing Reading  % Passing Overall  \nSpending Per Student                                                        \n< $590/student             93.460096          96.610877          90.369459  \n$590-620/student           94.230858          95.900287          90.216324  \n$620-655/student           72.500412          84.449030          61.916992  ",
      "text/html": "<div>\n<style scoped>\n    .dataframe tbody tr th:only-of-type {\n        vertical-align: middle;\n    }\n\n    .dataframe tbody tr th {\n        vertical-align: top;\n    }\n\n    .dataframe thead th {\n        text-align: right;\n    }\n</style>\n<table border=\"1\" class=\"dataframe\">\n  <thead>\n    <tr style=\"text-align: right;\">\n      <th></th>\n      <th>Average Math Score</th>\n      <th>Average Reading Score</th>\n      <th>% Passing Math</th>\n      <th>% Passing Reading</th>\n      <th>% Passing Overall</th>\n    </tr>\n    <tr>\n      <th>Spending Per Student</th>\n      <th></th>\n      <th></th>\n      <th></th>\n      <th></th>\n      <th></th>\n    </tr>\n  </thead>\n  <tbody>\n    <tr>\n      <th>&lt; $590/student</th>\n      <td>83.455399</td>\n      <td>83.933814</td>\n      <td>93.460096</td>\n      <td>96.610877</td>\n      <td>90.369459</td>\n    </tr>\n    <tr>\n      <th>$590-620/student</th>\n      <td>83.599686</td>\n      <td>83.885211</td>\n      <td>94.230858</td>\n      <td>95.900287</td>\n      <td>90.216324</td>\n    </tr>\n    <tr>\n      <th>$620-655/student</th>\n      <td>78.385220</td>\n      <td>81.603571</td>\n      <td>72.500412</td>\n      <td>84.449030</td>\n      <td>61.916992</td>\n    </tr>\n  </tbody>\n</table>\n</div>"
     },
     "metadata": {},
     "execution_count": 187
    }
   ],
   "source": [
    "summary_byspending = school_summary.groupby(\"Spending Per Student\")\n",
    "print(summary_byspending['Total # of students'].count())\n",
    "\n",
    "# Average Math Score\n",
    "\n",
    "# Average Reading Score\n",
    "\n",
    "# % Passing Math\n",
    "\n",
    "# % Passing Reading\n",
    "\n",
    "# Overall Passing Rate (Average of the above two)\n",
    "\n",
    "summary_byspending[['Average Math Score', 'Average Reading Score', '% Passing Math', '% Passing Reading', '% Passing Overall']].mean()\n",
    "\n"
   ]
  },
  {
   "cell_type": "code",
   "execution_count": 188,
   "metadata": {
    "tags": []
   },
   "outputs": [
    {
     "output_type": "stream",
     "name": "stdout",
     "text": "427\n4976\n"
    }
   ],
   "source": [
    "print(min(total_students))\n",
    "print(max(total_students))"
   ]
  },
  {
   "cell_type": "code",
   "execution_count": 189,
   "metadata": {
    "tags": []
   },
   "outputs": [
    {
     "output_type": "stream",
     "name": "stdout",
     "text": "School Size\n< 1500 students       3\n1500-3000 students    8\n3000-5000 students    4\nName: Total # of students, dtype: int64\n"
    },
    {
     "output_type": "execute_result",
     "data": {
      "text/plain": "                    Average Math Score  Average Reading Score  % Passing Math  \\\nSchool Size                                                                     \n< 1500 students              83.664898              83.892148       93.497607   \n1500-3000 students           80.904987              82.822740       83.556977   \n3000-5000 students           77.063340              80.919864       66.464293   \n\n                    % Passing Reading  % Passing Overall  \nSchool Size                                               \n< 1500 students             96.445946          90.122387  \n1500-3000 students          90.588593          76.762379  \n3000-5000 students          81.059691          53.674303  ",
      "text/html": "<div>\n<style scoped>\n    .dataframe tbody tr th:only-of-type {\n        vertical-align: middle;\n    }\n\n    .dataframe tbody tr th {\n        vertical-align: top;\n    }\n\n    .dataframe thead th {\n        text-align: right;\n    }\n</style>\n<table border=\"1\" class=\"dataframe\">\n  <thead>\n    <tr style=\"text-align: right;\">\n      <th></th>\n      <th>Average Math Score</th>\n      <th>Average Reading Score</th>\n      <th>% Passing Math</th>\n      <th>% Passing Reading</th>\n      <th>% Passing Overall</th>\n    </tr>\n    <tr>\n      <th>School Size</th>\n      <th></th>\n      <th></th>\n      <th></th>\n      <th></th>\n      <th></th>\n    </tr>\n  </thead>\n  <tbody>\n    <tr>\n      <th>&lt; 1500 students</th>\n      <td>83.664898</td>\n      <td>83.892148</td>\n      <td>93.497607</td>\n      <td>96.445946</td>\n      <td>90.122387</td>\n    </tr>\n    <tr>\n      <th>1500-3000 students</th>\n      <td>80.904987</td>\n      <td>82.822740</td>\n      <td>83.556977</td>\n      <td>90.588593</td>\n      <td>76.762379</td>\n    </tr>\n    <tr>\n      <th>3000-5000 students</th>\n      <td>77.063340</td>\n      <td>80.919864</td>\n      <td>66.464293</td>\n      <td>81.059691</td>\n      <td>53.674303</td>\n    </tr>\n  </tbody>\n</table>\n</div>"
     },
     "metadata": {},
     "execution_count": 189
    }
   ],
   "source": [
    "# Scores by school size\n",
    "# Create a table that breaks down school performances based on School Size. Use 4 reasonable bins to group school spending. Include in the table each of the following:\n",
    "# Average Math Score\n",
    "\n",
    "# Average Reading Score\n",
    "\n",
    "# % Passing Math\n",
    "\n",
    "# % Passing Reading\n",
    "\n",
    "# Overall Passing Rate (Average of the above two)\n",
    "size_bins = [0, 1500, 3000, 5000]\n",
    "size_group = [\"< 1500 students\", \"1500-3000 students\", \"3000-5000 students\"]\n",
    "\n",
    "\n",
    "school_summary['School Size'] = pd.cut(school_summary['Total # of students'], size_bins, labels=size_group)\n",
    "school_summary\n",
    "\n",
    "summary_bysize = school_summary.groupby(\"School Size\")\n",
    "print(summary_bysize['Total # of students'].count())\n",
    "\n",
    "summary_bysize[['Average Math Score', 'Average Reading Score', '% Passing Math', '% Passing Reading', '% Passing Overall']].mean()"
   ]
  },
  {
   "cell_type": "code",
   "execution_count": 191,
   "metadata": {
    "tags": []
   },
   "outputs": [
    {
     "output_type": "stream",
     "name": "stdout",
     "text": "School Type\nCharter     8\nDistrict    7\nName: Total # of students, dtype: int64\n"
    },
    {
     "output_type": "execute_result",
     "data": {
      "text/plain": "             Average Math Score  Average Reading Score  % Passing Math  \\\nSchool Type                                                              \nCharter               83.473852              83.896421       93.620830   \nDistrict              76.956733              80.966636       66.548453   \n\n             % Passing Reading  % Passing Overall  \nSchool Type                                        \nCharter              96.586489          90.432244  \nDistrict             80.799062          53.672208  ",
      "text/html": "<div>\n<style scoped>\n    .dataframe tbody tr th:only-of-type {\n        vertical-align: middle;\n    }\n\n    .dataframe tbody tr th {\n        vertical-align: top;\n    }\n\n    .dataframe thead th {\n        text-align: right;\n    }\n</style>\n<table border=\"1\" class=\"dataframe\">\n  <thead>\n    <tr style=\"text-align: right;\">\n      <th></th>\n      <th>Average Math Score</th>\n      <th>Average Reading Score</th>\n      <th>% Passing Math</th>\n      <th>% Passing Reading</th>\n      <th>% Passing Overall</th>\n    </tr>\n    <tr>\n      <th>School Type</th>\n      <th></th>\n      <th></th>\n      <th></th>\n      <th></th>\n      <th></th>\n    </tr>\n  </thead>\n  <tbody>\n    <tr>\n      <th>Charter</th>\n      <td>83.473852</td>\n      <td>83.896421</td>\n      <td>93.620830</td>\n      <td>96.586489</td>\n      <td>90.432244</td>\n    </tr>\n    <tr>\n      <th>District</th>\n      <td>76.956733</td>\n      <td>80.966636</td>\n      <td>66.548453</td>\n      <td>80.799062</td>\n      <td>53.672208</td>\n    </tr>\n  </tbody>\n</table>\n</div>"
     },
     "metadata": {},
     "execution_count": 191
    }
   ],
   "source": [
    "# Scores by school type (charter or district)\n",
    "#Include in the table each of the following:\n",
    "\n",
    "# Average Math Score\n",
    "\n",
    "# Average Reading Score\n",
    "\n",
    "# % Passing Math\n",
    "\n",
    "# % Passing Reading\n",
    "\n",
    "# Overall Passing Rate (Average of the above two)\n",
    "summary_bytype = school_summary.groupby(\"School Type\")\n",
    "print(summary_bytype['Total # of students'].count())\n",
    "\n",
    "summary_bytype[['Average Math Score', 'Average Reading Score', '% Passing Math', '% Passing Reading', '% Passing Overall']].mean()"
   ]
  },
  {
   "cell_type": "code",
   "execution_count": null,
   "metadata": {},
   "outputs": [],
   "source": []
  }
 ]
}