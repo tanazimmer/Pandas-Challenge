{
 "metadata": {
  "language_info": {
   "codemirror_mode": {
    "name": "ipython",
    "version": 3
   },
   "file_extension": ".py",
   "mimetype": "text/x-python",
   "name": "python",
   "nbconvert_exporter": "python",
   "pygments_lexer": "ipython3",
   "version": "3.6.10-final"
  },
  "orig_nbformat": 2,
  "kernelspec": {
   "name": "python_defaultSpec_1597608425574",
   "display_name": "Python 3.6.10 64-bit ('PythonData': conda)"
  }
 },
 "nbformat": 4,
 "nbformat_minor": 2,
 "cells": [
  {
   "cell_type": "code",
   "execution_count": 284,
   "metadata": {},
   "outputs": [
    {
     "output_type": "execute_result",
     "data": {
      "text/plain": "   Student ID       student_name gender grade        school_name  \\\n0           0       Paul Bradley      M   9th  Huang High School   \n1           1       Victor Smith      M  12th  Huang High School   \n2           2    Kevin Rodriguez      M  12th  Huang High School   \n3           3  Dr. Richard Scott      M  12th  Huang High School   \n4           4         Bonnie Ray      F   9th  Huang High School   \n\n   reading_score  math_score  School ID      type  size   budget  \n0             66          79          0  District  2917  1910635  \n1             94          61          0  District  2917  1910635  \n2             90          60          0  District  2917  1910635  \n3             67          58          0  District  2917  1910635  \n4             97          84          0  District  2917  1910635  ",
      "text/html": "<div>\n<style scoped>\n    .dataframe tbody tr th:only-of-type {\n        vertical-align: middle;\n    }\n\n    .dataframe tbody tr th {\n        vertical-align: top;\n    }\n\n    .dataframe thead th {\n        text-align: right;\n    }\n</style>\n<table border=\"1\" class=\"dataframe\">\n  <thead>\n    <tr style=\"text-align: right;\">\n      <th></th>\n      <th>Student ID</th>\n      <th>student_name</th>\n      <th>gender</th>\n      <th>grade</th>\n      <th>school_name</th>\n      <th>reading_score</th>\n      <th>math_score</th>\n      <th>School ID</th>\n      <th>type</th>\n      <th>size</th>\n      <th>budget</th>\n    </tr>\n  </thead>\n  <tbody>\n    <tr>\n      <th>0</th>\n      <td>0</td>\n      <td>Paul Bradley</td>\n      <td>M</td>\n      <td>9th</td>\n      <td>Huang High School</td>\n      <td>66</td>\n      <td>79</td>\n      <td>0</td>\n      <td>District</td>\n      <td>2917</td>\n      <td>1910635</td>\n    </tr>\n    <tr>\n      <th>1</th>\n      <td>1</td>\n      <td>Victor Smith</td>\n      <td>M</td>\n      <td>12th</td>\n      <td>Huang High School</td>\n      <td>94</td>\n      <td>61</td>\n      <td>0</td>\n      <td>District</td>\n      <td>2917</td>\n      <td>1910635</td>\n    </tr>\n    <tr>\n      <th>2</th>\n      <td>2</td>\n      <td>Kevin Rodriguez</td>\n      <td>M</td>\n      <td>12th</td>\n      <td>Huang High School</td>\n      <td>90</td>\n      <td>60</td>\n      <td>0</td>\n      <td>District</td>\n      <td>2917</td>\n      <td>1910635</td>\n    </tr>\n    <tr>\n      <th>3</th>\n      <td>3</td>\n      <td>Dr. Richard Scott</td>\n      <td>M</td>\n      <td>12th</td>\n      <td>Huang High School</td>\n      <td>67</td>\n      <td>58</td>\n      <td>0</td>\n      <td>District</td>\n      <td>2917</td>\n      <td>1910635</td>\n    </tr>\n    <tr>\n      <th>4</th>\n      <td>4</td>\n      <td>Bonnie Ray</td>\n      <td>F</td>\n      <td>9th</td>\n      <td>Huang High School</td>\n      <td>97</td>\n      <td>84</td>\n      <td>0</td>\n      <td>District</td>\n      <td>2917</td>\n      <td>1910635</td>\n    </tr>\n  </tbody>\n</table>\n</div>"
     },
     "metadata": {},
     "execution_count": 284
    }
   ],
   "source": [
    "# Dependencies and Setup\n",
    "import pandas as pd\n",
    "import numpy as np\n",
    "\n",
    "# File to Load (Remember to Change These)\n",
    "school_data_to_load = \"Resources/schools_complete.csv\"\n",
    "student_data_to_load = \"Resources/students_complete.csv\"\n",
    "\n",
    "# Read School and Student Data File and store into Pandas DataFrames\n",
    "school_data = pd.read_csv(school_data_to_load)\n",
    "student_data = pd.read_csv(student_data_to_load)\n",
    "\n",
    "# Combine the data into a single dataset.   \n",
    "total_df = pd.merge(student_data, school_data, how=\"left\", on=[\"school_name\", \"school_name\"])\n",
    "\n",
    "total_df.head()\n"
   ]
  },
  {
   "cell_type": "code",
   "execution_count": 299,
   "metadata": {},
   "outputs": [
    {
     "output_type": "execute_result",
     "data": {
      "text/plain": "   Total # of schools  Total # of students  Total budget  Average math score  \\\n0                  15                39170   82932329558           78.985371   \n\n   Average reading score  Percent of Students Passing Math  \\\n0               81.87784                         74.980853   \n\n   Percent of Students Passing Reading  \\\n0                            85.805463   \n\n   Percent of Students Passing Math and Reading  \n0                                     65.172326  ",
      "text/html": "<div>\n<style scoped>\n    .dataframe tbody tr th:only-of-type {\n        vertical-align: middle;\n    }\n\n    .dataframe tbody tr th {\n        vertical-align: top;\n    }\n\n    .dataframe thead th {\n        text-align: right;\n    }\n</style>\n<table border=\"1\" class=\"dataframe\">\n  <thead>\n    <tr style=\"text-align: right;\">\n      <th></th>\n      <th>Total # of schools</th>\n      <th>Total # of students</th>\n      <th>Total budget</th>\n      <th>Average math score</th>\n      <th>Average reading score</th>\n      <th>Percent of Students Passing Math</th>\n      <th>Percent of Students Passing Reading</th>\n      <th>Percent of Students Passing Math and Reading</th>\n    </tr>\n  </thead>\n  <tbody>\n    <tr>\n      <th>0</th>\n      <td>15</td>\n      <td>39170</td>\n      <td>82932329558</td>\n      <td>78.985371</td>\n      <td>81.87784</td>\n      <td>74.980853</td>\n      <td>85.805463</td>\n      <td>65.172326</td>\n    </tr>\n  </tbody>\n</table>\n</div>"
     },
     "metadata": {},
     "execution_count": 299
    }
   ],
   "source": [
    "#District Summary Dataframwe\n",
    "\n",
    "#Calculate the total number of schools\n",
    "schools = total_df['school_name'].nunique()\n",
    "\n",
    "#Calculate the total number of students\n",
    "students = total_df['student_name'].count()\n",
    "\n",
    "#Calculate the total budget\n",
    "total_budget = total_df['budget'].sum()\n",
    "\n",
    "#Calculate the average math score\n",
    "math_score = total_df['math_score'].mean()\n",
    "\n",
    "#Calculate the average reading score\n",
    "reading_score = total_df['reading_score'].mean()\n",
    "\n",
    "#Calculate the percentage of students with a passing math score (70 or greater)\n",
    "passing_math = total_df.loc[total_df['math_score'] >=70, :]['student_name'].count()\n",
    "percent_passing_math = passing_math / students * 100\n",
    "\n",
    "#Calculate the percentage of students with a passing reading score (70 or greater)\n",
    "passing_reading = total_df.loc[student_data['reading_score'] >=70, :]['student_name'].count()\n",
    "percent_passing_reading = passing_reading / students * 100\n",
    "\n",
    "#Calculate the percentage of students who passed math and reading (% Overall Passing) - while loop???\n",
    "percent_overall = total_df[(total_df['math_score'] >= 70) & (student_data['reading_score'] >= 70)]['student_name'].count()/students * 100\n",
    "\n",
    "\n",
    "#Create a dataframe to hold the above results\n",
    "district_summary_df = pd.DataFrame({\n",
    "    \"Total # of schools\": [schools],\n",
    "    \"Total # of students\": [students],\n",
    "    \"Total budget\": [total_budget],\n",
    "    \"Average math score\": [math_score],\n",
    "    \"Average reading score\": [reading_score],\n",
    "    \"Percent of Students Passing Math\": [percent_passing_math],\n",
    "    \"Percent of Students Passing Reading\": [percent_passing_reading],\n",
    "    \"Percent of Students Passing Math and Reading\": [percent_overall]\n",
    "\n",
    "})\n",
    "\n",
    "district_summary_df\n",
    "#Optional: give the displayed data cleaner formatting\n"
   ]
  },
  {
   "cell_type": "code",
   "execution_count": 298,
   "metadata": {
    "tags": []
   },
   "outputs": [
    {
     "output_type": "stream",
     "name": "stdout",
     "text": "<pandas.core.groupby.generic.DataFrameGroupBy object at 0x000001FAF1443CF8>\n"
    },
    {
     "output_type": "execute_result",
     "data": {
      "text/plain": "                       type  size  budget  math_score  reading_score\nschool_name                                                         \nBailey High School     4976  4976    4976        4976           4976\nCabrera High School    1858  1858    1858        1858           1858\nFigueroa High School   2949  2949    2949        2949           2949\nFord High School       2739  2739    2739        2739           2739\nGriffin High School    1468  1468    1468        1468           1468\nHernandez High School  4635  4635    4635        4635           4635\nHolden High School      427   427     427         427            427\nHuang High School      2917  2917    2917        2917           2917\nJohnson High School    4761  4761    4761        4761           4761\nPena High School        962   962     962         962            962",
      "text/html": "<div>\n<style scoped>\n    .dataframe tbody tr th:only-of-type {\n        vertical-align: middle;\n    }\n\n    .dataframe tbody tr th {\n        vertical-align: top;\n    }\n\n    .dataframe thead th {\n        text-align: right;\n    }\n</style>\n<table border=\"1\" class=\"dataframe\">\n  <thead>\n    <tr style=\"text-align: right;\">\n      <th></th>\n      <th>type</th>\n      <th>size</th>\n      <th>budget</th>\n      <th>math_score</th>\n      <th>reading_score</th>\n    </tr>\n    <tr>\n      <th>school_name</th>\n      <th></th>\n      <th></th>\n      <th></th>\n      <th></th>\n      <th></th>\n    </tr>\n  </thead>\n  <tbody>\n    <tr>\n      <th>Bailey High School</th>\n      <td>4976</td>\n      <td>4976</td>\n      <td>4976</td>\n      <td>4976</td>\n      <td>4976</td>\n    </tr>\n    <tr>\n      <th>Cabrera High School</th>\n      <td>1858</td>\n      <td>1858</td>\n      <td>1858</td>\n      <td>1858</td>\n      <td>1858</td>\n    </tr>\n    <tr>\n      <th>Figueroa High School</th>\n      <td>2949</td>\n      <td>2949</td>\n      <td>2949</td>\n      <td>2949</td>\n      <td>2949</td>\n    </tr>\n    <tr>\n      <th>Ford High School</th>\n      <td>2739</td>\n      <td>2739</td>\n      <td>2739</td>\n      <td>2739</td>\n      <td>2739</td>\n    </tr>\n    <tr>\n      <th>Griffin High School</th>\n      <td>1468</td>\n      <td>1468</td>\n      <td>1468</td>\n      <td>1468</td>\n      <td>1468</td>\n    </tr>\n    <tr>\n      <th>Hernandez High School</th>\n      <td>4635</td>\n      <td>4635</td>\n      <td>4635</td>\n      <td>4635</td>\n      <td>4635</td>\n    </tr>\n    <tr>\n      <th>Holden High School</th>\n      <td>427</td>\n      <td>427</td>\n      <td>427</td>\n      <td>427</td>\n      <td>427</td>\n    </tr>\n    <tr>\n      <th>Huang High School</th>\n      <td>2917</td>\n      <td>2917</td>\n      <td>2917</td>\n      <td>2917</td>\n      <td>2917</td>\n    </tr>\n    <tr>\n      <th>Johnson High School</th>\n      <td>4761</td>\n      <td>4761</td>\n      <td>4761</td>\n      <td>4761</td>\n      <td>4761</td>\n    </tr>\n    <tr>\n      <th>Pena High School</th>\n      <td>962</td>\n      <td>962</td>\n      <td>962</td>\n      <td>962</td>\n      <td>962</td>\n    </tr>\n  </tbody>\n</table>\n</div>"
     },
     "metadata": {},
     "execution_count": 298
    }
   ],
   "source": [
    "#School Summary Dataframe\n",
    "\n",
    "#Overview summary with...\n",
    "school_summary_start = total_df[['school_name', 'type', 'size', 'budget', 'math_score', 'reading_score']]\n",
    "\n",
    "grouped_school_df = school_summary_start.groupby(['school_name'])\n",
    "\n",
    "print(grouped_school_df)\n",
    "\n",
    "\n",
    "grouped_school_df.count().head(10)"
   ]
  },
  {
   "cell_type": "code",
   "execution_count": 300,
   "metadata": {
    "tags": []
   },
   "outputs": [
    {
     "output_type": "stream",
     "name": "stdout",
     "text": "<pandas.core.groupby.generic.DataFrameGroupBy object at 0x000001FAF10D5470>\n"
    },
    {
     "output_type": "execute_result",
     "data": {
      "text/plain": "                       Student ID  student_name  gender  grade  reading_score  \\\nschool_name                                                                     \nBailey High School           4976          4976    4976   4976           4976   \nCabrera High School          1858          1858    1858   1858           1858   \nFigueroa High School         2949          2949    2949   2949           2949   \nFord High School             2739          2739    2739   2739           2739   \nGriffin High School          1468          1468    1468   1468           1468   \nHernandez High School        4635          4635    4635   4635           4635   \nHolden High School            427           427     427    427            427   \nHuang High School            2917          2917    2917   2917           2917   \nJohnson High School          4761          4761    4761   4761           4761   \nPena High School              962           962     962    962            962   \n\n                       math_score  School ID  type  size  budget  \nschool_name                                                       \nBailey High School           4976       4976  4976  4976    4976  \nCabrera High School          1858       1858  1858  1858    1858  \nFigueroa High School         2949       2949  2949  2949    2949  \nFord High School             2739       2739  2739  2739    2739  \nGriffin High School          1468       1468  1468  1468    1468  \nHernandez High School        4635       4635  4635  4635    4635  \nHolden High School            427        427   427   427     427  \nHuang High School            2917       2917  2917  2917    2917  \nJohnson High School          4761       4761  4761  4761    4761  \nPena High School              962        962   962   962     962  ",
      "text/html": "<div>\n<style scoped>\n    .dataframe tbody tr th:only-of-type {\n        vertical-align: middle;\n    }\n\n    .dataframe tbody tr th {\n        vertical-align: top;\n    }\n\n    .dataframe thead th {\n        text-align: right;\n    }\n</style>\n<table border=\"1\" class=\"dataframe\">\n  <thead>\n    <tr style=\"text-align: right;\">\n      <th></th>\n      <th>Student ID</th>\n      <th>student_name</th>\n      <th>gender</th>\n      <th>grade</th>\n      <th>reading_score</th>\n      <th>math_score</th>\n      <th>School ID</th>\n      <th>type</th>\n      <th>size</th>\n      <th>budget</th>\n    </tr>\n    <tr>\n      <th>school_name</th>\n      <th></th>\n      <th></th>\n      <th></th>\n      <th></th>\n      <th></th>\n      <th></th>\n      <th></th>\n      <th></th>\n      <th></th>\n      <th></th>\n    </tr>\n  </thead>\n  <tbody>\n    <tr>\n      <th>Bailey High School</th>\n      <td>4976</td>\n      <td>4976</td>\n      <td>4976</td>\n      <td>4976</td>\n      <td>4976</td>\n      <td>4976</td>\n      <td>4976</td>\n      <td>4976</td>\n      <td>4976</td>\n      <td>4976</td>\n    </tr>\n    <tr>\n      <th>Cabrera High School</th>\n      <td>1858</td>\n      <td>1858</td>\n      <td>1858</td>\n      <td>1858</td>\n      <td>1858</td>\n      <td>1858</td>\n      <td>1858</td>\n      <td>1858</td>\n      <td>1858</td>\n      <td>1858</td>\n    </tr>\n    <tr>\n      <th>Figueroa High School</th>\n      <td>2949</td>\n      <td>2949</td>\n      <td>2949</td>\n      <td>2949</td>\n      <td>2949</td>\n      <td>2949</td>\n      <td>2949</td>\n      <td>2949</td>\n      <td>2949</td>\n      <td>2949</td>\n    </tr>\n    <tr>\n      <th>Ford High School</th>\n      <td>2739</td>\n      <td>2739</td>\n      <td>2739</td>\n      <td>2739</td>\n      <td>2739</td>\n      <td>2739</td>\n      <td>2739</td>\n      <td>2739</td>\n      <td>2739</td>\n      <td>2739</td>\n    </tr>\n    <tr>\n      <th>Griffin High School</th>\n      <td>1468</td>\n      <td>1468</td>\n      <td>1468</td>\n      <td>1468</td>\n      <td>1468</td>\n      <td>1468</td>\n      <td>1468</td>\n      <td>1468</td>\n      <td>1468</td>\n      <td>1468</td>\n    </tr>\n    <tr>\n      <th>Hernandez High School</th>\n      <td>4635</td>\n      <td>4635</td>\n      <td>4635</td>\n      <td>4635</td>\n      <td>4635</td>\n      <td>4635</td>\n      <td>4635</td>\n      <td>4635</td>\n      <td>4635</td>\n      <td>4635</td>\n    </tr>\n    <tr>\n      <th>Holden High School</th>\n      <td>427</td>\n      <td>427</td>\n      <td>427</td>\n      <td>427</td>\n      <td>427</td>\n      <td>427</td>\n      <td>427</td>\n      <td>427</td>\n      <td>427</td>\n      <td>427</td>\n    </tr>\n    <tr>\n      <th>Huang High School</th>\n      <td>2917</td>\n      <td>2917</td>\n      <td>2917</td>\n      <td>2917</td>\n      <td>2917</td>\n      <td>2917</td>\n      <td>2917</td>\n      <td>2917</td>\n      <td>2917</td>\n      <td>2917</td>\n    </tr>\n    <tr>\n      <th>Johnson High School</th>\n      <td>4761</td>\n      <td>4761</td>\n      <td>4761</td>\n      <td>4761</td>\n      <td>4761</td>\n      <td>4761</td>\n      <td>4761</td>\n      <td>4761</td>\n      <td>4761</td>\n      <td>4761</td>\n    </tr>\n    <tr>\n      <th>Pena High School</th>\n      <td>962</td>\n      <td>962</td>\n      <td>962</td>\n      <td>962</td>\n      <td>962</td>\n      <td>962</td>\n      <td>962</td>\n      <td>962</td>\n      <td>962</td>\n      <td>962</td>\n    </tr>\n  </tbody>\n</table>\n</div>"
     },
     "metadata": {},
     "execution_count": 300
    }
   ],
   "source": [
    "#School name\n",
    "grouped_school_df = total_df.groupby(['school_name'])\n",
    "\n",
    "# School type\n",
    "school_type = grouped_school_df['type'].first()\n",
    "\n",
    "#Total students\n",
    "total_students = grouped_school_df['student_name'].count()\n",
    "\n",
    "#Total School budget\n",
    "school_budget = grouped_school_df['budget'].first()\n",
    "\n",
    "#Per student budget\n",
    "student_budget = school_budget / total_students\n",
    "\n",
    "#Average Math Score\n",
    "avg_math = grouped_school_df['math_score'].mean()\n",
    "\n",
    "#Average Reading Score\n",
    "avg_reading = grouped_school_df['reading_score'].mean()\n",
    "\n",
    "# % Passing Math\n",
    "\n",
    "\n",
    "# % Passing Reading\n",
    "\n",
    "# Percent overall passing\n",
    "\n",
    "# Display Dataframe\n",
    "school_summary_df = pd.DataFrame({\n",
    "    \"School Type\": [school_type],\n",
    "    \"Total # of students\": [total_students],\n",
    "    \"Total budget\": [school_budget],\n",
    "    \"Per Student Budget\": [student_budget],\n",
    "    \"Average Math Score\": [avg_math],\n",
    "    \"Average Reading Score\": [avg_reading]\n",
    "\n",
    "})\n",
    "school_summary_df = total_df.groupby(['school_name'])\n",
    "\n",
    "print(school_summary_df)\n",
    "\n",
    "school_summary_df.count().head(10)\n",
    "#Optional: give the displayed data cleaner formatting\n"
   ]
  },
  {
   "cell_type": "code",
   "execution_count": 287,
   "metadata": {},
   "outputs": [],
   "source": [
    "# Top performing schools\n",
    "# Sort and display the top 5 performing schools by % overall passing"
   ]
  },
  {
   "cell_type": "code",
   "execution_count": 288,
   "metadata": {},
   "outputs": [],
   "source": [
    "# Bottom performing schools\n",
    "# Sort and display the 5 worst performing schools by % overall passing\n"
   ]
  },
  {
   "cell_type": "code",
   "execution_count": 289,
   "metadata": {},
   "outputs": [],
   "source": [
    "# Math scores by grade\n",
    "# Create a table that lists the average reading score for the students of each grade level (9th, 10th, 11th, 12th) at each school\n",
    "# Create a pandas series for each grade. Hint: use a conditional statement.\n",
    "\n",
    "# Group each series by school\n",
    "\n",
    "# Combine the series into a dataframe\n",
    "\n",
    "# Optional: give the displayed data cleaner formatting\n",
    "\n"
   ]
  },
  {
   "cell_type": "code",
   "execution_count": 290,
   "metadata": {},
   "outputs": [],
   "source": [
    "# Reading scores by grade\n",
    "# Create a table that lists the average math score for the students of each grade level (9th, 10th, 11th, 12th) at each school\n",
    "# Create a pandas series for each grade. Hint: use a conditional statement.\n",
    "\n",
    "# Group each series by school\n",
    "\n",
    "# Combine the series into a dataframe\n",
    "\n",
    "# Optional: give the displayed data cleaner formatting"
   ]
  },
  {
   "cell_type": "code",
   "execution_count": 291,
   "metadata": {},
   "outputs": [],
   "source": [
    "# Scores by school spending\n",
    "# Create a table that breaks down school performances based on average Spending Ranges (Per Student). Use 4 reasonable bins to group school spending. Include in the table each of the following:\n",
    "# Average Math Score\n",
    "\n",
    "# Average Reading Score\n",
    "\n",
    "# % Passing Math\n",
    "\n",
    "# % Passing Reading\n",
    "\n",
    "# Overall Passing Rate (Average of the above two)\n"
   ]
  },
  {
   "cell_type": "code",
   "execution_count": 292,
   "metadata": {},
   "outputs": [],
   "source": [
    "# Scores by school size\n",
    "# Create a table that breaks down school performances based on School Size. Use 4 reasonable bins to group school spending. Include in the table each of the following:\n",
    "# Average Math Score\n",
    "\n",
    "# Average Reading Score\n",
    "\n",
    "# % Passing Math\n",
    "\n",
    "# % Passing Reading\n",
    "\n",
    "# Overall Passing Rate (Average of the above two)\n"
   ]
  },
  {
   "cell_type": "code",
   "execution_count": 293,
   "metadata": {},
   "outputs": [],
   "source": [
    "# Scores by school type (charter or district)\n",
    "#Include in the table each of the following:\n",
    "\n",
    "# Average Math Score\n",
    "\n",
    "# Average Reading Score\n",
    "\n",
    "# % Passing Math\n",
    "\n",
    "# % Passing Reading\n",
    "\n",
    "# Overall Passing Rate (Average of the above two)\n"
   ]
  }
 ]
}